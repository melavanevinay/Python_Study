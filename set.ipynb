{
 "cells": [
  {
   "cell_type": "markdown",
   "id": "2dbec5b8-d3ec-4e6b-92a8-0f3c0bd4b979",
   "metadata": {},
   "source": [
    "# Set object"
   ]
  },
  {
   "cell_type": "markdown",
   "id": "b6894c1e-cc42-44df-bfe0-7acca6a12b02",
   "metadata": {},
   "source": [
    "## set object are written by using curly brackets. \" { } \""
   ]
  },
  {
   "cell_type": "markdown",
   "id": "9fbd6c57-9fa7-412e-a380-1c123547b00c",
   "metadata": {},
   "source": [
    "## the blank set will be given as dictonary."
   ]
  },
  {
   "cell_type": "code",
   "execution_count": 8,
   "id": "43da5582-afe9-4e57-89b4-f9912e2284f8",
   "metadata": {},
   "outputs": [],
   "source": [
    "s={}"
   ]
  },
  {
   "cell_type": "code",
   "execution_count": 9,
   "id": "78f874f5-8d58-403d-b036-adb32ae6c737",
   "metadata": {},
   "outputs": [
    {
     "data": {
      "text/plain": [
       "dict"
      ]
     },
     "execution_count": 9,
     "metadata": {},
     "output_type": "execute_result"
    }
   ],
   "source": [
    "type(s)"
   ]
  },
  {
   "cell_type": "code",
   "execution_count": 10,
   "id": "4b10ef88-1a74-406d-a786-0351e61dd498",
   "metadata": {},
   "outputs": [],
   "source": [
    "s1={1,2,3,4}"
   ]
  },
  {
   "cell_type": "code",
   "execution_count": 11,
   "id": "d4fefe95-5798-42bf-b079-e97353c2d354",
   "metadata": {},
   "outputs": [
    {
     "data": {
      "text/plain": [
       "set"
      ]
     },
     "execution_count": 11,
     "metadata": {},
     "output_type": "execute_result"
    }
   ],
   "source": [
    "type(s1)"
   ]
  },
  {
   "cell_type": "markdown",
   "id": "7baf11fe-0705-4ca0-8bda-3449d8625aa5",
   "metadata": {},
   "source": [
    "## The object set gives us unique value, it will remove duplicate value and provide dataset in ordered manner."
   ]
  },
  {
   "cell_type": "code",
   "execution_count": 12,
   "id": "1054444b-f74f-4d4b-9536-f29105ef34c5",
   "metadata": {},
   "outputs": [],
   "source": [
    "s2={1,8,5,4,7,6,2,1,55,4,5,4,45,36,25,25,25,36,6,6,6}"
   ]
  },
  {
   "cell_type": "code",
   "execution_count": 13,
   "id": "934ccf31-6cc7-4fdd-8902-81c4e1c7a54a",
   "metadata": {},
   "outputs": [
    {
     "data": {
      "text/plain": [
       "{1, 2, 4, 5, 6, 7, 8, 25, 36, 45, 55}"
      ]
     },
     "execution_count": 13,
     "metadata": {},
     "output_type": "execute_result"
    }
   ],
   "source": [
    "s2"
   ]
  },
  {
   "cell_type": "markdown",
   "id": "aa223013-acf8-40c0-a266-ea48f297a918",
   "metadata": {},
   "source": [
    "## we can convert set to list, set to tuple and vice versa."
   ]
  },
  {
   "cell_type": "code",
   "execution_count": 14,
   "id": "17c6e3d5-e326-4a2d-a08f-667733ed3438",
   "metadata": {},
   "outputs": [],
   "source": [
    "l1=list(s2)"
   ]
  },
  {
   "cell_type": "code",
   "execution_count": 15,
   "id": "6589e999-9fa6-47d4-ab92-d88e3cde7154",
   "metadata": {},
   "outputs": [
    {
     "data": {
      "text/plain": [
       "[1, 2, 4, 5, 6, 7, 8, 36, 45, 55, 25]"
      ]
     },
     "execution_count": 15,
     "metadata": {},
     "output_type": "execute_result"
    }
   ],
   "source": [
    "l1"
   ]
  },
  {
   "cell_type": "code",
   "execution_count": 16,
   "id": "696c9409-9332-4305-a84c-f5ff762cc281",
   "metadata": {},
   "outputs": [],
   "source": [
    "t1=tuple(s2)"
   ]
  },
  {
   "cell_type": "code",
   "execution_count": 17,
   "id": "64aaa9c3-82ba-4855-a7e5-ce8432b7578c",
   "metadata": {},
   "outputs": [
    {
     "data": {
      "text/plain": [
       "(1, 2, 4, 5, 6, 7, 8, 36, 45, 55, 25)"
      ]
     },
     "execution_count": 17,
     "metadata": {},
     "output_type": "execute_result"
    }
   ],
   "source": [
    "t1"
   ]
  },
  {
   "cell_type": "code",
   "execution_count": 18,
   "id": "322bb51e-8211-4258-8b2e-d7e6ccb0981c",
   "metadata": {},
   "outputs": [],
   "source": [
    "l2=[1,1,2,1,2,3,3,4,5,6,77,48,45,48,48]"
   ]
  },
  {
   "cell_type": "code",
   "execution_count": 19,
   "id": "0e5b6272-4a7d-46dc-ba7a-ffdc52eeca28",
   "metadata": {},
   "outputs": [
    {
     "data": {
      "text/plain": [
       "[1, 1, 2, 1, 2, 3, 3, 4, 5, 6, 77, 48, 45, 48, 48]"
      ]
     },
     "execution_count": 19,
     "metadata": {},
     "output_type": "execute_result"
    }
   ],
   "source": [
    "l2"
   ]
  },
  {
   "cell_type": "code",
   "execution_count": 20,
   "id": "3545fbe0-9441-45cc-9008-cace01548352",
   "metadata": {},
   "outputs": [],
   "source": [
    "s3=set(l2)"
   ]
  },
  {
   "cell_type": "code",
   "execution_count": 21,
   "id": "ab93ebd2-9bc3-4256-996c-0a5c136c87b2",
   "metadata": {},
   "outputs": [
    {
     "data": {
      "text/plain": [
       "{1, 2, 3, 4, 5, 6, 45, 48, 77}"
      ]
     },
     "execution_count": 21,
     "metadata": {},
     "output_type": "execute_result"
    }
   ],
   "source": [
    "s3"
   ]
  },
  {
   "cell_type": "markdown",
   "id": "270cf263-a514-4bdd-8b3d-43134f2350f1",
   "metadata": {},
   "source": [
    "##  Here above we can that by using set function we can convert the list into set in which as property of set it will remove duplicate element from list arrange it in ordered manner and will return a set."
   ]
  },
  {
   "cell_type": "markdown",
   "id": "1e973e39-3d5b-4558-82d7-6f34373d181a",
   "metadata": {},
   "source": [
    "## By using set we can remove duplicate values from list and tuples."
   ]
  },
  {
   "cell_type": "markdown",
   "id": "571a2d9c-723a-4ec0-a02f-209d6631041b",
   "metadata": {},
   "source": [
    "# Set object is not subscriptable.\n",
    "\n",
    "## We cannot subcript items in set."
   ]
  },
  {
   "cell_type": "code",
   "execution_count": 22,
   "id": "7379788b-7079-4eb7-b9f0-412c8075090f",
   "metadata": {},
   "outputs": [
    {
     "data": {
      "text/plain": [
       "{1, 2, 3, 4, 5, 6, 45, 48, 77}"
      ]
     },
     "execution_count": 22,
     "metadata": {},
     "output_type": "execute_result"
    }
   ],
   "source": [
    "s3"
   ]
  },
  {
   "cell_type": "code",
   "execution_count": 23,
   "id": "9f3c5551-7a9d-4dbe-bbf1-fe284accac8e",
   "metadata": {},
   "outputs": [
    {
     "ename": "TypeError",
     "evalue": "'set' object is not subscriptable",
     "output_type": "error",
     "traceback": [
      "\u001b[0;31m---------------------------------------------------------------------------\u001b[0m",
      "\u001b[0;31mTypeError\u001b[0m                                 Traceback (most recent call last)",
      "Cell \u001b[0;32mIn[23], line 1\u001b[0m\n\u001b[0;32m----> 1\u001b[0m \u001b[43ms3\u001b[49m\u001b[43m[\u001b[49m\u001b[38;5;241;43m2\u001b[39;49m\u001b[43m]\u001b[49m\n",
      "\u001b[0;31mTypeError\u001b[0m: 'set' object is not subscriptable"
     ]
    }
   ],
   "source": [
    "s3[2]"
   ]
  },
  {
   "cell_type": "markdown",
   "id": "4a1d551d-07fe-40c4-8839-280c96d4a322",
   "metadata": {},
   "source": [
    "## we cannot perform slicing operation on set "
   ]
  },
  {
   "cell_type": "code",
   "execution_count": 24,
   "id": "8cc28217-18a3-4630-9061-e9b150122cf2",
   "metadata": {},
   "outputs": [
    {
     "data": {
      "text/plain": [
       "{1, 2, 3, 4, 5, 6, 45, 48, 77}"
      ]
     },
     "execution_count": 24,
     "metadata": {},
     "output_type": "execute_result"
    }
   ],
   "source": [
    "s3"
   ]
  },
  {
   "cell_type": "code",
   "execution_count": 25,
   "id": "c34f709a-5feb-4a0b-b024-741f2a6986d1",
   "metadata": {},
   "outputs": [
    {
     "ename": "TypeError",
     "evalue": "'set' object is not subscriptable",
     "output_type": "error",
     "traceback": [
      "\u001b[0;31m---------------------------------------------------------------------------\u001b[0m",
      "\u001b[0;31mTypeError\u001b[0m                                 Traceback (most recent call last)",
      "Cell \u001b[0;32mIn[25], line 1\u001b[0m\n\u001b[0;32m----> 1\u001b[0m \u001b[43ms3\u001b[49m\u001b[43m[\u001b[49m\u001b[43m:\u001b[49m\u001b[43m:\u001b[49m\u001b[38;5;241;43m-\u001b[39;49m\u001b[38;5;241;43m2\u001b[39;49m\u001b[43m]\u001b[49m\n",
      "\u001b[0;31mTypeError\u001b[0m: 'set' object is not subscriptable"
     ]
    }
   ],
   "source": [
    "s3[::-2]"
   ]
  },
  {
   "cell_type": "markdown",
   "id": "d0bcb247-9855-428a-af5d-df2fd7f3feb4",
   "metadata": {},
   "source": [
    "## Reason behind we cannot perform indexing or slicing in set function is because:"
   ]
  },
  {
   "cell_type": "markdown",
   "id": "9f23aa1d-95fd-4a9e-94d1-c0b694b67902",
   "metadata": {},
   "source": [
    "### Reading elements of a set in Python basically means accessing one or multiple elements of the set. We know that set values are unordered which means the user is not sure of the order in which data values appear. Therefore, it is unindexed. We cannot access the elements of a set using an index say, set[0]. It will not print the 0th index value, instead, it will return an error"
   ]
  },
  {
   "cell_type": "markdown",
   "id": "e6d03bdc-4ac7-47b9-b1f7-8e2dac9f5f9e",
   "metadata": {},
   "source": [
    "## We can iterate inside set:"
   ]
  },
  {
   "cell_type": "markdown",
   "id": "e87d58ec-439a-4724-ab9c-5ca3d3e86e41",
   "metadata": {},
   "source": [
    "### By using for loop we can iterate inside set by using for loop:"
   ]
  },
  {
   "cell_type": "code",
   "execution_count": 26,
   "id": "77f5b31c-9fcc-4c7c-a224-869cd9bedbdd",
   "metadata": {},
   "outputs": [
    {
     "data": {
      "text/plain": [
       "{1, 2, 3, 4, 5, 6, 45, 48, 77}"
      ]
     },
     "execution_count": 26,
     "metadata": {},
     "output_type": "execute_result"
    }
   ],
   "source": [
    "s3"
   ]
  },
  {
   "cell_type": "code",
   "execution_count": 27,
   "id": "7c227752-9e76-4734-9721-8aa95c51f80b",
   "metadata": {},
   "outputs": [
    {
     "name": "stdout",
     "output_type": "stream",
     "text": [
      "1\n",
      "2\n",
      "3\n",
      "4\n",
      "5\n",
      "6\n",
      "77\n",
      "45\n",
      "48\n"
     ]
    }
   ],
   "source": [
    "for i in s3:\n",
    "    print(i)"
   ]
  },
  {
   "cell_type": "markdown",
   "id": "6fabf6d6-0f10-4145-bd2c-197dfc48f495",
   "metadata": {},
   "source": [
    "# Various inbuilt functions in set are :"
   ]
  },
  {
   "cell_type": "markdown",
   "id": "919b9413-3fa3-4643-9eac-ea5533a15f85",
   "metadata": {},
   "source": [
    "1. add()\n",
    "2. clear()\n",
    "3. copy()\n",
    "4. difference()\n",
    "5. difference_update()\n",
    "6. discard()\n",
    "7. intersection()\n",
    "8. intersection_update()\n",
    "9. isdisjoint()\n",
    "10. issubset()\n",
    "11. issuperset()\n",
    "12. pop()\n",
    "13. remove()\n",
    "14. symmetric_difference()\n",
    "15. symmetric_difference_update()\n",
    "16. union()\n",
    "17. update()"
   ]
  },
  {
   "cell_type": "markdown",
   "id": "5c5cfeeb-d2d4-4dde-8046-142efce57632",
   "metadata": {},
   "source": [
    "## 1. add()\n",
    "### It allows add element to set.\n"
   ]
  },
  {
   "cell_type": "code",
   "execution_count": 28,
   "id": "1d7e250f-1f06-4bab-abd4-ae1b4e3555d4",
   "metadata": {},
   "outputs": [
    {
     "data": {
      "text/plain": [
       "{1, 2, 3, 4, 5, 6, 45, 48, 77}"
      ]
     },
     "execution_count": 28,
     "metadata": {},
     "output_type": "execute_result"
    }
   ],
   "source": [
    "s3"
   ]
  },
  {
   "cell_type": "code",
   "execution_count": 29,
   "id": "e7201683-aa36-44fd-a048-ce28610e1d42",
   "metadata": {},
   "outputs": [],
   "source": [
    "s3.add(101)"
   ]
  },
  {
   "cell_type": "code",
   "execution_count": 30,
   "id": "44fb699b-3168-4cad-92bb-98fad941390b",
   "metadata": {},
   "outputs": [
    {
     "data": {
      "text/plain": [
       "{1, 2, 3, 4, 5, 6, 45, 48, 77, 101}"
      ]
     },
     "execution_count": 30,
     "metadata": {},
     "output_type": "execute_result"
    }
   ],
   "source": [
    "s3"
   ]
  },
  {
   "cell_type": "markdown",
   "id": "be628af8-d455-4c04-8465-5415e3ef93d0",
   "metadata": {},
   "source": [
    "### As property of set to hold unique values, if you try to add value which is already present in set will not be added."
   ]
  },
  {
   "cell_type": "code",
   "execution_count": 31,
   "id": "b3bb40d0-49a5-4702-ad52-6df259e000b3",
   "metadata": {},
   "outputs": [],
   "source": [
    "s3.add(2)"
   ]
  },
  {
   "cell_type": "code",
   "execution_count": 32,
   "id": "1e1fbff9-641e-4855-8df6-964f7e59724c",
   "metadata": {},
   "outputs": [
    {
     "data": {
      "text/plain": [
       "{1, 2, 3, 4, 5, 6, 45, 48, 77, 101}"
      ]
     },
     "execution_count": 32,
     "metadata": {},
     "output_type": "execute_result"
    }
   ],
   "source": [
    "s3"
   ]
  },
  {
   "cell_type": "markdown",
   "id": "2f70cc5e-e596-41ce-8a68-66672ed56cb6",
   "metadata": {},
   "source": [
    "## 2. clear()\n",
    "### Clear function will remove all the elements from  set. it will return a blank set as \"set()\" in output"
   ]
  },
  {
   "cell_type": "code",
   "execution_count": 33,
   "id": "91a3b679-3719-44fa-8502-9fc461f09a8f",
   "metadata": {},
   "outputs": [],
   "source": [
    "s4={1,2,3,4,5,64,7}"
   ]
  },
  {
   "cell_type": "code",
   "execution_count": 34,
   "id": "0c09ca4a-5ee9-4ed5-9cb7-510e81e4e73d",
   "metadata": {},
   "outputs": [
    {
     "data": {
      "text/plain": [
       "{1, 2, 3, 4, 5, 7, 64}"
      ]
     },
     "execution_count": 34,
     "metadata": {},
     "output_type": "execute_result"
    }
   ],
   "source": [
    "s4"
   ]
  },
  {
   "cell_type": "code",
   "execution_count": 35,
   "id": "ab40acec-e8db-45f3-8518-3f35932f391b",
   "metadata": {},
   "outputs": [],
   "source": [
    "s4.clear()"
   ]
  },
  {
   "cell_type": "code",
   "execution_count": 36,
   "id": "20cd790a-8279-41b1-86d1-3b914f9d67e2",
   "metadata": {},
   "outputs": [
    {
     "data": {
      "text/plain": [
       "set()"
      ]
     },
     "execution_count": 36,
     "metadata": {},
     "output_type": "execute_result"
    }
   ],
   "source": [
    "s4"
   ]
  },
  {
   "cell_type": "markdown",
   "id": "fbced049-5b2d-4cee-b8c0-19c190e4f5b4",
   "metadata": {},
   "source": [
    "## 3.Copy()\n",
    "### This function will return shallow copy of set"
   ]
  },
  {
   "cell_type": "code",
   "execution_count": 37,
   "id": "d5a5bfe6-eb13-45fb-aebe-59dbf510369a",
   "metadata": {},
   "outputs": [
    {
     "data": {
      "text/plain": [
       "{1, 2, 3, 4, 5, 6, 45, 48, 77, 101}"
      ]
     },
     "execution_count": 37,
     "metadata": {},
     "output_type": "execute_result"
    }
   ],
   "source": [
    "s3"
   ]
  },
  {
   "cell_type": "code",
   "execution_count": 38,
   "id": "867c96dd-de47-4090-924a-8afe91ee2bcf",
   "metadata": {},
   "outputs": [],
   "source": [
    "s5=s3.copy()"
   ]
  },
  {
   "cell_type": "code",
   "execution_count": 39,
   "id": "13df486d-0ef5-4c46-a762-237d75ade46b",
   "metadata": {},
   "outputs": [
    {
     "data": {
      "text/plain": [
       "{1, 2, 3, 4, 5, 6, 45, 48, 77, 101}"
      ]
     },
     "execution_count": 39,
     "metadata": {},
     "output_type": "execute_result"
    }
   ],
   "source": [
    "s5"
   ]
  },
  {
   "cell_type": "markdown",
   "id": "22cb46b0-b7bc-473c-bdbe-86c0e1b92ec2",
   "metadata": {},
   "source": [
    "### Any changes made in parent set cannot be seen in copied set:"
   ]
  },
  {
   "cell_type": "code",
   "execution_count": 40,
   "id": "5ce58248-29f2-4dee-ba74-cc3536c71d33",
   "metadata": {},
   "outputs": [],
   "source": [
    "s3.add(1001)"
   ]
  },
  {
   "cell_type": "code",
   "execution_count": 41,
   "id": "cfc38983-07a4-42bd-b157-afe9bf3f103d",
   "metadata": {},
   "outputs": [
    {
     "data": {
      "text/plain": [
       "{1, 2, 3, 4, 5, 6, 45, 48, 77, 101, 1001}"
      ]
     },
     "execution_count": 41,
     "metadata": {},
     "output_type": "execute_result"
    }
   ],
   "source": [
    "s3"
   ]
  },
  {
   "cell_type": "code",
   "execution_count": 42,
   "id": "652a5e58-87db-4899-b07d-164e479e283c",
   "metadata": {},
   "outputs": [
    {
     "data": {
      "text/plain": [
       "{1, 2, 3, 4, 5, 6, 45, 48, 77, 101}"
      ]
     },
     "execution_count": 42,
     "metadata": {},
     "output_type": "execute_result"
    }
   ],
   "source": [
    "s5"
   ]
  },
  {
   "cell_type": "markdown",
   "id": "ea2b4cfc-fba5-4040-8395-e1df22b0c783",
   "metadata": {},
   "source": [
    "## 4. difference()\n",
    "\n",
    "### This function will return a difference in two set as new set."
   ]
  },
  {
   "cell_type": "code",
   "execution_count": 43,
   "id": "aba9b705-6ccb-47b1-b06e-c73420936e15",
   "metadata": {},
   "outputs": [],
   "source": [
    "s6={1,2,4,5,6,8,9}\n",
    "s7={1,4,5,9,7,22,55,64}\n"
   ]
  },
  {
   "cell_type": "code",
   "execution_count": 44,
   "id": "c493c31b-f7a1-41b4-9a3f-fbe17e69c369",
   "metadata": {},
   "outputs": [
    {
     "data": {
      "text/plain": [
       "{2, 6, 8}"
      ]
     },
     "execution_count": 44,
     "metadata": {},
     "output_type": "execute_result"
    }
   ],
   "source": [
    "s6.difference(s7)"
   ]
  },
  {
   "cell_type": "markdown",
   "id": "b310060b-c1c3-4fb2-a8c4-d35c6bb3a57a",
   "metadata": {},
   "source": [
    "## 5. difference_update()"
   ]
  },
  {
   "cell_type": "markdown",
   "id": "140e1d30-9268-43e0-9559-c9e751d18cb3",
   "metadata": {},
   "source": [
    "### The difference_update() method removes the items that exist in both sets.\n",
    "\n",
    "### The difference_update() method is different from the difference() method, because the difference() method returns a new set, without the common items, and the difference_update() method removes the common items from the original set."
   ]
  },
  {
   "cell_type": "code",
   "execution_count": 45,
   "id": "285cc129-d54b-4509-9f56-62a5ee2c4820",
   "metadata": {},
   "outputs": [
    {
     "data": {
      "text/plain": [
       "{1, 2, 4, 5, 6, 8, 9}"
      ]
     },
     "execution_count": 45,
     "metadata": {},
     "output_type": "execute_result"
    }
   ],
   "source": [
    "s6"
   ]
  },
  {
   "cell_type": "code",
   "execution_count": 46,
   "id": "fe569a4c-77c7-43b9-92c1-97ef506f059d",
   "metadata": {},
   "outputs": [
    {
     "data": {
      "text/plain": [
       "{1, 4, 5, 7, 9, 22, 55, 64}"
      ]
     },
     "execution_count": 46,
     "metadata": {},
     "output_type": "execute_result"
    }
   ],
   "source": [
    "s7"
   ]
  },
  {
   "cell_type": "code",
   "execution_count": 47,
   "id": "9952966b-4aeb-4633-a4f1-ca983d988e65",
   "metadata": {},
   "outputs": [],
   "source": [
    "s6.difference_update(s7)"
   ]
  },
  {
   "cell_type": "code",
   "execution_count": 48,
   "id": "117dec96-3b76-425e-9e24-0b1b8b0c651d",
   "metadata": {},
   "outputs": [
    {
     "data": {
      "text/plain": [
       "{2, 6, 8}"
      ]
     },
     "execution_count": 48,
     "metadata": {},
     "output_type": "execute_result"
    }
   ],
   "source": [
    "s6"
   ]
  },
  {
   "cell_type": "markdown",
   "id": "3c2790a2-631b-4acb-9ac6-9748746817bb",
   "metadata": {},
   "source": [
    "## 6. discard()"
   ]
  },
  {
   "cell_type": "markdown",
   "id": "2b75d0ed-5110-4d55-8a61-cd20d97b9e95",
   "metadata": {},
   "source": [
    "### The discard() method removes the specified item from the set.\n",
    "\n",
    "### This method is different from the remove() method, because the remove() method will raise an error if the specified item does not exist, and the discard() method will not."
   ]
  },
  {
   "cell_type": "code",
   "execution_count": 50,
   "id": "8267d873-46d3-4720-8458-c70d345ded06",
   "metadata": {},
   "outputs": [],
   "source": [
    "s8={'car','bike','cycle','cart'}"
   ]
  },
  {
   "cell_type": "code",
   "execution_count": 51,
   "id": "f766cd3e-02a0-4d62-b286-b65ea8727702",
   "metadata": {},
   "outputs": [],
   "source": [
    "s8.discard(\"cart\")"
   ]
  },
  {
   "cell_type": "code",
   "execution_count": 52,
   "id": "fee7e266-b08b-4f80-a3ab-babf1fae0772",
   "metadata": {},
   "outputs": [
    {
     "data": {
      "text/plain": [
       "{'bike', 'car', 'cycle'}"
      ]
     },
     "execution_count": 52,
     "metadata": {},
     "output_type": "execute_result"
    }
   ],
   "source": [
    "s8"
   ]
  },
  {
   "cell_type": "markdown",
   "id": "85012498-6b3e-4ba4-b002-a14331a0fa0d",
   "metadata": {},
   "source": [
    "## 7. intersection()"
   ]
  },
  {
   "cell_type": "markdown",
   "id": "49ee80be-2c68-415d-afda-1535c8be4a85",
   "metadata": {},
   "source": [
    "### This function will return a new set with the items which are present in two or more sets."
   ]
  },
  {
   "cell_type": "code",
   "execution_count": 53,
   "id": "0ec561b3-6293-488e-b5b9-ef4ea4c9b165",
   "metadata": {},
   "outputs": [],
   "source": [
    "s9={1,5,2,3,4,7,8,9,2,3,4}"
   ]
  },
  {
   "cell_type": "code",
   "execution_count": 54,
   "id": "6879d82a-cdae-4e37-96fb-760b6a825b72",
   "metadata": {},
   "outputs": [],
   "source": [
    "s10={1,2,4,5,7,6,5,85,48}"
   ]
  },
  {
   "cell_type": "code",
   "execution_count": 55,
   "id": "738e0de8-fc42-4b92-86e7-8e0ea68bc799",
   "metadata": {},
   "outputs": [
    {
     "data": {
      "text/plain": [
       "{1, 2, 4, 5, 7}"
      ]
     },
     "execution_count": 55,
     "metadata": {},
     "output_type": "execute_result"
    }
   ],
   "source": [
    "s9.intersection(s10)"
   ]
  },
  {
   "cell_type": "markdown",
   "id": "1b5375f3-4bf8-4fe3-b44e-064ac17136ed",
   "metadata": {},
   "source": [
    "## 8. intersection_update()"
   ]
  },
  {
   "cell_type": "markdown",
   "id": "fed8fa2e-88fc-4f19-85d3-15bbb7a102fd",
   "metadata": {},
   "source": [
    "### Intersection method removes the items which are not common in both the sets, and creates a new set with common items which are present in both or in all sets.\n",
    "### While intersection_update() method will remove the items from original set which are dissimilar with comparision sets and returns original set"
   ]
  },
  {
   "cell_type": "code",
   "execution_count": 60,
   "id": "cdb84c4f-896d-4fd2-bfc4-004580ed0e45",
   "metadata": {},
   "outputs": [
    {
     "name": "stdout",
     "output_type": "stream",
     "text": [
      "{'vinay'}\n"
     ]
    }
   ],
   "source": [
    "s11={'vinay','pratik','omkar'}\n",
    "s12={'nilam','vinay','aniket'}\n",
    "s13={'ganesh','omkar','vinay'}\n",
    "\n",
    "s11.intersection_update(s12,s13)\n",
    "print(s11)"
   ]
  },
  {
   "cell_type": "markdown",
   "id": "27e38e45-01f9-41dd-ab65-7c842ce34899",
   "metadata": {},
   "source": [
    "## 9. isdisjoint()"
   ]
  },
  {
   "cell_type": "markdown",
   "id": "2eb539bb-ccd4-4a27-a1a4-8eec960906e1",
   "metadata": {},
   "source": [
    "### This function is used to check wether the sets contains common items. If both sets contain no common item it will return true, or it will return false."
   ]
  },
  {
   "cell_type": "code",
   "execution_count": 64,
   "id": "1f800dd3-45a2-4e61-a50f-d3a7061fcc95",
   "metadata": {},
   "outputs": [
    {
     "data": {
      "text/plain": [
       "False"
      ]
     },
     "execution_count": 64,
     "metadata": {},
     "output_type": "execute_result"
    }
   ],
   "source": [
    "s14={'vinay','pratik','omkar'}\n",
    "s15={'nilam','vinay','aniket'}\n",
    "s16={'ganesh','kuldeep','kedar'}\n",
    "\n",
    "s14.isdisjoint(s15)"
   ]
  },
  {
   "cell_type": "code",
   "execution_count": 65,
   "id": "b51b9ea0-9def-4cab-a419-f84bbb38dcab",
   "metadata": {},
   "outputs": [
    {
     "data": {
      "text/plain": [
       "True"
      ]
     },
     "execution_count": 65,
     "metadata": {},
     "output_type": "execute_result"
    }
   ],
   "source": [
    "s14.isdisjoint(s16)"
   ]
  },
  {
   "cell_type": "markdown",
   "id": "9c6b8842-2cd0-4839-9457-005d218e02e1",
   "metadata": {},
   "source": [
    "## 10. issubset()"
   ]
  },
  {
   "cell_type": "markdown",
   "id": "bfb7bcd7-fc17-47e2-ba71-d5e3e4c8597b",
   "metadata": {},
   "source": [
    "### This method is used to check weather the set contains all the elemets in specified set. It will return true if it contains the same all item from specified set or it will return false."
   ]
  },
  {
   "cell_type": "code",
   "execution_count": 66,
   "id": "c29af8ad-4c8a-4cf6-91d9-84d5d0fc95e5",
   "metadata": {},
   "outputs": [],
   "source": [
    "s17={1,2,3,4,6}\n",
    "s18={1,2,3,4,5,6,7,8,9,10,11,12,13}"
   ]
  },
  {
   "cell_type": "code",
   "execution_count": 67,
   "id": "762425c5-67c6-4681-9428-c80a1ab80d03",
   "metadata": {},
   "outputs": [
    {
     "data": {
      "text/plain": [
       "True"
      ]
     },
     "execution_count": 67,
     "metadata": {},
     "output_type": "execute_result"
    }
   ],
   "source": [
    "s17.issubset(s18)"
   ]
  },
  {
   "cell_type": "code",
   "execution_count": 68,
   "id": "1bf2aa53-40f0-4078-85dd-93a67a1f782c",
   "metadata": {},
   "outputs": [
    {
     "data": {
      "text/plain": [
       "False"
      ]
     },
     "execution_count": 68,
     "metadata": {},
     "output_type": "execute_result"
    }
   ],
   "source": [
    "s18.issubset(s17)"
   ]
  },
  {
   "cell_type": "markdown",
   "id": "4b27dec4-febe-401f-b92a-a80ac7cca16b",
   "metadata": {},
   "source": [
    "## 11. issuperset()"
   ]
  },
  {
   "cell_type": "markdown",
   "id": "6156ae85-2541-48b2-9deb-73bdb4e91485",
   "metadata": {},
   "source": [
    "### The issubset() method returns True if all items in the set exists in the specified set, otherwise it returns False"
   ]
  },
  {
   "cell_type": "code",
   "execution_count": 69,
   "id": "716e676d-e946-4fe7-ac5e-eec05104a2f0",
   "metadata": {},
   "outputs": [],
   "source": [
    "s19={'a','b','c','d','e'}\n",
    "s20={'a','b','c'}"
   ]
  },
  {
   "cell_type": "code",
   "execution_count": 70,
   "id": "c79c5a0e-3dbe-4894-81f8-274bc566de9c",
   "metadata": {},
   "outputs": [
    {
     "data": {
      "text/plain": [
       "True"
      ]
     },
     "execution_count": 70,
     "metadata": {},
     "output_type": "execute_result"
    }
   ],
   "source": [
    "s19.issuperset(s20)"
   ]
  },
  {
   "cell_type": "code",
   "execution_count": 71,
   "id": "95d77fa0-c08a-43c8-a248-0b857843d519",
   "metadata": {},
   "outputs": [
    {
     "data": {
      "text/plain": [
       "False"
      ]
     },
     "execution_count": 71,
     "metadata": {},
     "output_type": "execute_result"
    }
   ],
   "source": [
    "s20.issuperset(s19)"
   ]
  },
  {
   "cell_type": "markdown",
   "id": "1ffee8d4-3e9b-456a-a58f-a000c6af6418",
   "metadata": {},
   "source": [
    "## 12. pop()"
   ]
  },
  {
   "cell_type": "markdown",
   "id": "80a37b97-576d-4299-84d2-cb15a988eac2",
   "metadata": {},
   "source": [
    "### The pop() method will remove the random item from the set and will return the removed item"
   ]
  },
  {
   "cell_type": "code",
   "execution_count": 73,
   "id": "71033bd7-2cb6-4c28-8355-55c6ff2ca719",
   "metadata": {},
   "outputs": [
    {
     "data": {
      "text/plain": [
       "{'a', 'b', 'c', 'd', 'e'}"
      ]
     },
     "execution_count": 73,
     "metadata": {},
     "output_type": "execute_result"
    }
   ],
   "source": [
    "s19"
   ]
  },
  {
   "cell_type": "code",
   "execution_count": 74,
   "id": "850a4957-0a1d-4859-ba72-1e27772271d9",
   "metadata": {},
   "outputs": [
    {
     "data": {
      "text/plain": [
       "'b'"
      ]
     },
     "execution_count": 74,
     "metadata": {},
     "output_type": "execute_result"
    }
   ],
   "source": [
    "s19.pop()"
   ]
  },
  {
   "cell_type": "markdown",
   "id": "ba8ee9ff-e63e-4d2c-9bde-aff86d88f143",
   "metadata": {},
   "source": [
    "## 13. remove()"
   ]
  },
  {
   "cell_type": "markdown",
   "id": "697dfe22-4b7f-4a66-b218-1585d35f0e83",
   "metadata": {},
   "source": [
    "### The remove() method is used to remove the specified item from the set. This method is different from the discard() method as discard() method will not return error in element is not present in set while remove() method will generate the error in specified element is not present in the set."
   ]
  },
  {
   "cell_type": "code",
   "execution_count": 82,
   "id": "c6026ee7-df67-48f0-b07e-02c802366211",
   "metadata": {},
   "outputs": [
    {
     "data": {
      "text/plain": [
       "{'a', 'd'}"
      ]
     },
     "execution_count": 82,
     "metadata": {},
     "output_type": "execute_result"
    }
   ],
   "source": [
    "s19"
   ]
  },
  {
   "cell_type": "code",
   "execution_count": 79,
   "id": "5b5558a8-eee5-44eb-aecd-9026e354a8ea",
   "metadata": {},
   "outputs": [],
   "source": [
    "s19.remove('e')"
   ]
  },
  {
   "cell_type": "code",
   "execution_count": 80,
   "id": "1be21cf5-58f7-4183-8df4-5efe6cf41511",
   "metadata": {},
   "outputs": [
    {
     "data": {
      "text/plain": [
       "{'a', 'd'}"
      ]
     },
     "execution_count": 80,
     "metadata": {},
     "output_type": "execute_result"
    }
   ],
   "source": [
    "s19"
   ]
  },
  {
   "cell_type": "code",
   "execution_count": 81,
   "id": "ae50adb9-9aa6-4bd8-b0cb-46cdc32f07c8",
   "metadata": {},
   "outputs": [
    {
     "ename": "KeyError",
     "evalue": "'b'",
     "output_type": "error",
     "traceback": [
      "\u001b[0;31m---------------------------------------------------------------------------\u001b[0m",
      "\u001b[0;31mKeyError\u001b[0m                                  Traceback (most recent call last)",
      "Cell \u001b[0;32mIn[81], line 1\u001b[0m\n\u001b[0;32m----> 1\u001b[0m \u001b[43ms19\u001b[49m\u001b[38;5;241;43m.\u001b[39;49m\u001b[43mremove\u001b[49m\u001b[43m(\u001b[49m\u001b[38;5;124;43m'\u001b[39;49m\u001b[38;5;124;43mb\u001b[39;49m\u001b[38;5;124;43m'\u001b[39;49m\u001b[43m)\u001b[49m\n",
      "\u001b[0;31mKeyError\u001b[0m: 'b'"
     ]
    }
   ],
   "source": [
    "s19.remove('b')"
   ]
  },
  {
   "cell_type": "markdown",
   "id": "d8098118-a537-40e6-b8fb-4fdfc39651f0",
   "metadata": {},
   "source": [
    "## 14. symmetric_difference()"
   ]
  },
  {
   "cell_type": "markdown",
   "id": "6e149e7a-bc52-41cb-81e6-76dc4dd812b7",
   "metadata": {},
   "source": [
    "### The symmetric_difference() method returns a set with all elements which are not common in two sets."
   ]
  },
  {
   "cell_type": "code",
   "execution_count": 83,
   "id": "8367fa78-2a9f-4817-97b9-0a6ebd1dc11d",
   "metadata": {},
   "outputs": [
    {
     "data": {
      "text/plain": [
       "{'a', 'd'}"
      ]
     },
     "execution_count": 83,
     "metadata": {},
     "output_type": "execute_result"
    }
   ],
   "source": [
    "s19"
   ]
  },
  {
   "cell_type": "code",
   "execution_count": 84,
   "id": "56ab96a0-1180-4258-b8c5-e26985775768",
   "metadata": {},
   "outputs": [
    {
     "data": {
      "text/plain": [
       "{'a', 'b', 'c'}"
      ]
     },
     "execution_count": 84,
     "metadata": {},
     "output_type": "execute_result"
    }
   ],
   "source": [
    "s20"
   ]
  },
  {
   "cell_type": "code",
   "execution_count": 85,
   "id": "77e64a96-ae1e-4fed-906e-62677ebe49c4",
   "metadata": {},
   "outputs": [
    {
     "data": {
      "text/plain": [
       "{'b', 'c', 'd'}"
      ]
     },
     "execution_count": 85,
     "metadata": {},
     "output_type": "execute_result"
    }
   ],
   "source": [
    "s19.symmetric_difference(s20)"
   ]
  },
  {
   "cell_type": "code",
   "execution_count": 4,
   "id": "9e814ba5-e629-4d58-839e-50365c0fab37",
   "metadata": {},
   "outputs": [
    {
     "name": "stdout",
     "output_type": "stream",
     "text": [
      "{'banana', 'google', 'microsoft', 'cherry'}\n"
     ]
    }
   ],
   "source": [
    "x = {\"apple\", \"banana\", \"cherry\"}\n",
    "y = {\"google\", \"microsoft\", \"apple\"}\n",
    "\n",
    "z = x.symmetric_difference(y)\n",
    "\n",
    "print(z)"
   ]
  },
  {
   "cell_type": "markdown",
   "id": "a73f5b70-e518-471c-8e78-fb9030058575",
   "metadata": {},
   "source": [
    "## 15. union()"
   ]
  },
  {
   "cell_type": "markdown",
   "id": "f2f9015d-132b-4591-99fd-3591eb8f4f58",
   "metadata": {},
   "source": [
    "### union() method returns the set with all items in original set and all items in specified set.\n",
    "### It will exclude the duplicate items. We can specify as mmany sets we want."
   ]
  },
  {
   "cell_type": "code",
   "execution_count": 5,
   "id": "cb535eb2-d12e-4966-86a0-9bffefd43d9e",
   "metadata": {},
   "outputs": [
    {
     "data": {
      "text/plain": [
       "{'apple', 'banana', 'cherry'}"
      ]
     },
     "execution_count": 5,
     "metadata": {},
     "output_type": "execute_result"
    }
   ],
   "source": [
    "x"
   ]
  },
  {
   "cell_type": "code",
   "execution_count": 6,
   "id": "8a67a05a-6bc5-41a4-abf6-76dad02ae83f",
   "metadata": {},
   "outputs": [
    {
     "data": {
      "text/plain": [
       "{'apple', 'google', 'microsoft'}"
      ]
     },
     "execution_count": 6,
     "metadata": {},
     "output_type": "execute_result"
    }
   ],
   "source": [
    "y"
   ]
  },
  {
   "cell_type": "code",
   "execution_count": 7,
   "id": "963caf35-d181-4bca-89f7-d6c6c2716cdf",
   "metadata": {},
   "outputs": [
    {
     "data": {
      "text/plain": [
       "{'apple', 'banana', 'cherry', 'google', 'microsoft'}"
      ]
     },
     "execution_count": 7,
     "metadata": {},
     "output_type": "execute_result"
    }
   ],
   "source": [
    "x.union(y)"
   ]
  },
  {
   "cell_type": "markdown",
   "id": "8683523c-c2a4-4dad-8509-571bcb7fff81",
   "metadata": {},
   "source": [
    "### Any iterable object can be specified. such as list, tuple etc."
   ]
  },
  {
   "cell_type": "code",
   "execution_count": 8,
   "id": "4c932a4c-96ce-4dea-ac0a-a0b7404e8842",
   "metadata": {},
   "outputs": [],
   "source": [
    "z=['orange','mango','straberry']"
   ]
  },
  {
   "cell_type": "code",
   "execution_count": 10,
   "id": "808ad1c1-03b6-4a52-949c-9eb40392666a",
   "metadata": {},
   "outputs": [
    {
     "data": {
      "text/plain": [
       "{'apple', 'banana', 'cherry', 'mango', 'orange', 'straberry'}"
      ]
     },
     "execution_count": 10,
     "metadata": {},
     "output_type": "execute_result"
    }
   ],
   "source": [
    "x.union(z)"
   ]
  },
  {
   "cell_type": "markdown",
   "id": "cb7e453b-71d6-47e9-a40c-6cd00d6e7763",
   "metadata": {},
   "source": [
    "## 16 update()"
   ]
  },
  {
   "cell_type": "markdown",
   "id": "faab7af6-0972-4468-8ab9-42b254f1fb15",
   "metadata": {},
   "source": [
    "### The update() method will update the current set by adding the all items from specified set.\n",
    "### If an item is present in both the sets, it will have single occurance in the set as per property of set."
   ]
  },
  {
   "cell_type": "code",
   "execution_count": 11,
   "id": "85981325-7308-45ef-890d-949974252e6b",
   "metadata": {},
   "outputs": [
    {
     "data": {
      "text/plain": [
       "{'apple', 'banana', 'cherry'}"
      ]
     },
     "execution_count": 11,
     "metadata": {},
     "output_type": "execute_result"
    }
   ],
   "source": [
    "x"
   ]
  },
  {
   "cell_type": "code",
   "execution_count": 12,
   "id": "bbfc212d-ff06-4a4b-885a-03fd0e10e965",
   "metadata": {},
   "outputs": [
    {
     "data": {
      "text/plain": [
       "{'apple', 'google', 'microsoft'}"
      ]
     },
     "execution_count": 12,
     "metadata": {},
     "output_type": "execute_result"
    }
   ],
   "source": [
    "y"
   ]
  },
  {
   "cell_type": "code",
   "execution_count": 13,
   "id": "c402f298-eeb0-4ec6-bac2-6a28b49e663a",
   "metadata": {},
   "outputs": [],
   "source": [
    "x.update(y)"
   ]
  },
  {
   "cell_type": "markdown",
   "id": "65ebe8b7-b927-4d41-a2c9-2e9559dbc2ba",
   "metadata": {},
   "source": [
    "### Any iterable object can be specified. such as list, tuple etc."
   ]
  },
  {
   "cell_type": "code",
   "execution_count": 14,
   "id": "57fb2843-f1d8-4829-976d-80053394069c",
   "metadata": {},
   "outputs": [
    {
     "data": {
      "text/plain": [
       "{'apple', 'banana', 'cherry', 'google', 'microsoft'}"
      ]
     },
     "execution_count": 14,
     "metadata": {},
     "output_type": "execute_result"
    }
   ],
   "source": [
    "x"
   ]
  },
  {
   "cell_type": "code",
   "execution_count": 15,
   "id": "950c9243-84ab-4510-8679-eeff7c6e9441",
   "metadata": {},
   "outputs": [],
   "source": [
    "x.update(z)"
   ]
  },
  {
   "cell_type": "code",
   "execution_count": 16,
   "id": "35c1333b-b67a-44cc-b03f-fbba237d38ef",
   "metadata": {},
   "outputs": [
    {
     "data": {
      "text/plain": [
       "{'apple',\n",
       " 'banana',\n",
       " 'cherry',\n",
       " 'google',\n",
       " 'mango',\n",
       " 'microsoft',\n",
       " 'orange',\n",
       " 'straberry'}"
      ]
     },
     "execution_count": 16,
     "metadata": {},
     "output_type": "execute_result"
    }
   ],
   "source": [
    "x"
   ]
  },
  {
   "cell_type": "code",
   "execution_count": null,
   "id": "766fceab-7d8b-4861-9116-8411f765e82e",
   "metadata": {},
   "outputs": [],
   "source": []
  }
 ],
 "metadata": {
  "kernelspec": {
   "display_name": "Python 3 (ipykernel)",
   "language": "python",
   "name": "python3"
  },
  "language_info": {
   "codemirror_mode": {
    "name": "ipython",
    "version": 3
   },
   "file_extension": ".py",
   "mimetype": "text/x-python",
   "name": "python",
   "nbconvert_exporter": "python",
   "pygments_lexer": "ipython3",
   "version": "3.10.8"
  }
 },
 "nbformat": 4,
 "nbformat_minor": 5
}
