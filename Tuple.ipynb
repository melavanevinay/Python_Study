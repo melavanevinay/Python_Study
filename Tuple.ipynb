{
 "cells": [
  {
   "cell_type": "markdown",
   "id": "19f16cbb-ca9f-417b-b893-8225893ff6e0",
   "metadata": {},
   "source": [
    "# Tuples"
   ]
  },
  {
   "cell_type": "markdown",
   "id": "898cf8e5-f896-41a2-9d69-66195a865607",
   "metadata": {},
   "source": [
    "## Tuples are used to store multiple items in single veriable. It is collection of data which is ordered and unchangable (immutable)."
   ]
  },
  {
   "cell_type": "markdown",
   "id": "02eded17-f878-44f0-a31f-d4ae940c8749",
   "metadata": {},
   "source": [
    "## Tuple are written by using round bracket, \"( )\""
   ]
  },
  {
   "cell_type": "code",
   "execution_count": 2,
   "id": "4662e695-5c9e-4438-87ac-aa19ee072928",
   "metadata": {},
   "outputs": [],
   "source": [
    "t=()"
   ]
  },
  {
   "cell_type": "code",
   "execution_count": 3,
   "id": "ae6cb390-bf3d-4461-a79d-08887600f161",
   "metadata": {},
   "outputs": [
    {
     "data": {
      "text/plain": [
       "tuple"
      ]
     },
     "execution_count": 3,
     "metadata": {},
     "output_type": "execute_result"
    }
   ],
   "source": [
    "type(t)"
   ]
  },
  {
   "cell_type": "markdown",
   "id": "b7948ec8-4f9b-473a-8979-55509dcf15b2",
   "metadata": {},
   "source": [
    "## We can store different type of data items such as string, boolean, float, complex number, integer etc."
   ]
  },
  {
   "cell_type": "code",
   "execution_count": 4,
   "id": "0b1227bd-ad37-4d1a-bc63-ac94897dccbd",
   "metadata": {},
   "outputs": [],
   "source": [
    "t1=(1,2,3,4.5,'vinay',True, 26+5j)"
   ]
  },
  {
   "cell_type": "code",
   "execution_count": 5,
   "id": "525cf271-3e32-408d-a383-55ec051ede21",
   "metadata": {},
   "outputs": [
    {
     "data": {
      "text/plain": [
       "(1, 2, 3, 4.5, 'vinay', True, (26+5j))"
      ]
     },
     "execution_count": 5,
     "metadata": {},
     "output_type": "execute_result"
    }
   ],
   "source": [
    "t1"
   ]
  },
  {
   "cell_type": "markdown",
   "id": "12b23e7f-6c16-44bb-ab55-97d77d26d3b0",
   "metadata": {},
   "source": [
    "## The data in tuple can be indexed and index starts with 0 and so on. \n",
    " \n",
    "## for example t[0] will give 1 from t1."
   ]
  },
  {
   "cell_type": "code",
   "execution_count": 6,
   "id": "7502c140-e67a-46d7-aabf-0fc5c295f235",
   "metadata": {},
   "outputs": [
    {
     "data": {
      "text/plain": [
       "1"
      ]
     },
     "execution_count": 6,
     "metadata": {},
     "output_type": "execute_result"
    }
   ],
   "source": [
    "t1[0]"
   ]
  },
  {
   "cell_type": "code",
   "execution_count": 7,
   "id": "663e8afd-1011-4600-9549-ed5ba6b92989",
   "metadata": {},
   "outputs": [
    {
     "data": {
      "text/plain": [
       "'vinay'"
      ]
     },
     "execution_count": 7,
     "metadata": {},
     "output_type": "execute_result"
    }
   ],
   "source": [
    "t1[4]"
   ]
  },
  {
   "cell_type": "markdown",
   "id": "9ebcb163-29ec-48dc-bb36-2c67d14fa94b",
   "metadata": {},
   "source": [
    "## Reverse of tuple can be obtained by indexing method.\n",
    "\n",
    "t1[::-1]  this result is temporary which is only seen in output cell. The actual order in tuple remains same as it is.\n",
    "\n",
    "unless we assign this to a new veriable or existing. \n",
    "\n",
    "t1=t1[::-1]"
   ]
  },
  {
   "cell_type": "code",
   "execution_count": 8,
   "id": "ec200ba2-00ac-4068-822c-147c8f984012",
   "metadata": {},
   "outputs": [
    {
     "data": {
      "text/plain": [
       "((26+5j), True, 'vinay', 4.5, 3, 2, 1)"
      ]
     },
     "execution_count": 8,
     "metadata": {},
     "output_type": "execute_result"
    }
   ],
   "source": [
    "t1[::-1]"
   ]
  },
  {
   "cell_type": "code",
   "execution_count": 9,
   "id": "7ffc5b4d-a48b-4030-8da3-ea8ae1cf7b1d",
   "metadata": {},
   "outputs": [
    {
     "data": {
      "text/plain": [
       "1"
      ]
     },
     "execution_count": 9,
     "metadata": {},
     "output_type": "execute_result"
    }
   ],
   "source": [
    "t1[0]"
   ]
  },
  {
   "cell_type": "markdown",
   "id": "fb431c0e-07a6-4eec-a6e2-a864f1675440",
   "metadata": {},
   "source": [
    "We can extract required information from tuple by slicing.\n",
    "\n",
    "t1[1:4]"
   ]
  },
  {
   "cell_type": "code",
   "execution_count": 10,
   "id": "0bf56a7c-53cc-4073-ab20-f1680ca75779",
   "metadata": {},
   "outputs": [
    {
     "data": {
      "text/plain": [
       "(2, 3, 4.5)"
      ]
     },
     "execution_count": 10,
     "metadata": {},
     "output_type": "execute_result"
    }
   ],
   "source": [
    "t1[1:4]"
   ]
  },
  {
   "cell_type": "markdown",
   "id": "75219943-526c-42b5-b708-2742e16bf5f1",
   "metadata": {},
   "source": [
    "## Inbuilt function in tuple are:\n",
    "\n",
    "## The two methods in tuple are : \n",
    "\n",
    "### 1. count()\n",
    "### 2. index()\n",
    "\n",
    "### 1. count() method : \n",
    "   \n",
    "   ### Count() method in tuple returns the number for the given element in tuple is repeated.\n",
    "   ### Syntax for count method is : \n",
    "   \n",
    "   ### tuple_name.count (element)\n",
    "   \n"
   ]
  },
  {
   "cell_type": "code",
   "execution_count": 11,
   "id": "e2e5fb2b-c72d-49c7-9e5a-3284b2ee1617",
   "metadata": {},
   "outputs": [
    {
     "data": {
      "text/plain": [
       "(1, 2, 3, 4.5, 'vinay', True, (26+5j))"
      ]
     },
     "execution_count": 11,
     "metadata": {},
     "output_type": "execute_result"
    }
   ],
   "source": [
    "t1"
   ]
  },
  {
   "cell_type": "code",
   "execution_count": 12,
   "id": "feb0f105-4ae6-462e-87e5-3a814f25fd8a",
   "metadata": {},
   "outputs": [
    {
     "data": {
      "text/plain": [
       "1"
      ]
     },
     "execution_count": 12,
     "metadata": {},
     "output_type": "execute_result"
    }
   ],
   "source": [
    "t1.count('vinay')"
   ]
  },
  {
   "cell_type": "markdown",
   "id": "b9f847c4-e3a9-4dca-a4f4-6481021bbd7d",
   "metadata": {},
   "source": [
    "## 2. Index() method :\n",
    "\n",
    "   ### Index method returns the first occurance of given element from tuple. \n",
    "   ### The syntax for index method is : \n",
    "   \n",
    "   ### tuple_name.index (element, start, end)\n",
    "   ### where, \n",
    "   \n",
    "   ### 1. element : element that is to be searched.\n",
    "   ### 2. start :  From which index from where you want to start searching. For default it is 0.\n",
    "   ### 3. end :  upto element till you want to search."
   ]
  },
  {
   "cell_type": "code",
   "execution_count": 13,
   "id": "b9d6ffea-2e18-46fc-a227-741f72da61eb",
   "metadata": {},
   "outputs": [
    {
     "data": {
      "text/plain": [
       "(1, 2, 3, 4.5, 'vinay', True, (26+5j))"
      ]
     },
     "execution_count": 13,
     "metadata": {},
     "output_type": "execute_result"
    }
   ],
   "source": [
    "t1"
   ]
  },
  {
   "cell_type": "code",
   "execution_count": 14,
   "id": "f76ec627-731f-4aef-abdc-5a38eb3b0a3d",
   "metadata": {},
   "outputs": [
    {
     "data": {
      "text/plain": [
       "4"
      ]
     },
     "execution_count": 14,
     "metadata": {},
     "output_type": "execute_result"
    }
   ],
   "source": [
    "t1.index('vinay',0,7)"
   ]
  },
  {
   "cell_type": "markdown",
   "id": "8bf1f428-c000-4ad6-8f9c-983d84649105",
   "metadata": {},
   "source": [
    "# Tuple are immutable. \n",
    "\n",
    "## We cannot change item in tuple at any index. we can replace tuple. Changing component will give type error. "
   ]
  },
  {
   "cell_type": "code",
   "execution_count": 15,
   "id": "0d20b5ae-28e6-4203-aedc-3804f8d0b1ff",
   "metadata": {},
   "outputs": [
    {
     "data": {
      "text/plain": [
       "(1, 2, 3, 4.5, 'vinay', True, (26+5j))"
      ]
     },
     "execution_count": 15,
     "metadata": {},
     "output_type": "execute_result"
    }
   ],
   "source": [
    "t1"
   ]
  },
  {
   "cell_type": "code",
   "execution_count": 16,
   "id": "76db0916-497a-4654-bb68-c492f542cd74",
   "metadata": {},
   "outputs": [
    {
     "data": {
      "text/plain": [
       "2"
      ]
     },
     "execution_count": 16,
     "metadata": {},
     "output_type": "execute_result"
    }
   ],
   "source": [
    "t1[1]"
   ]
  },
  {
   "cell_type": "code",
   "execution_count": 17,
   "id": "d492cfa1-ed51-4add-b2a6-37b84aec0b7c",
   "metadata": {},
   "outputs": [
    {
     "ename": "TypeError",
     "evalue": "'tuple' object does not support item assignment",
     "output_type": "error",
     "traceback": [
      "\u001b[0;31m---------------------------------------------------------------------------\u001b[0m",
      "\u001b[0;31mTypeError\u001b[0m                                 Traceback (most recent call last)",
      "Cell \u001b[0;32mIn[17], line 1\u001b[0m\n\u001b[0;32m----> 1\u001b[0m \u001b[43mt1\u001b[49m\u001b[43m[\u001b[49m\u001b[38;5;241;43m1\u001b[39;49m\u001b[43m]\u001b[49m\u001b[38;5;241m=\u001b[39m\u001b[38;5;241m5\u001b[39m\n",
      "\u001b[0;31mTypeError\u001b[0m: 'tuple' object does not support item assignment"
     ]
    }
   ],
   "source": [
    "t1[1]=5"
   ]
  },
  {
   "cell_type": "markdown",
   "id": "ca2b8cab-4083-4e64-b41a-316fc7178b89",
   "metadata": {},
   "source": [
    "# We can also iterate in tuple "
   ]
  },
  {
   "cell_type": "code",
   "execution_count": 18,
   "id": "27069b33-4fdf-4d44-86a2-a33bc217ec95",
   "metadata": {},
   "outputs": [
    {
     "data": {
      "text/plain": [
       "(1, 2, 3, 4.5, 'vinay', True, (26+5j))"
      ]
     },
     "execution_count": 18,
     "metadata": {},
     "output_type": "execute_result"
    }
   ],
   "source": [
    "t1"
   ]
  },
  {
   "cell_type": "code",
   "execution_count": 19,
   "id": "477e2ac4-7b9e-4393-8925-feedd5f8a409",
   "metadata": {},
   "outputs": [
    {
     "name": "stdout",
     "output_type": "stream",
     "text": [
      "1\n",
      "2\n",
      "3\n",
      "4.5\n",
      "vinay\n",
      "True\n",
      "(26+5j)\n"
     ]
    }
   ],
   "source": [
    "for i in t1:\n",
    "    print(i)"
   ]
  },
  {
   "cell_type": "code",
   "execution_count": 20,
   "id": "248e5b77-4f82-4a2f-b831-be309769afe7",
   "metadata": {},
   "outputs": [
    {
     "name": "stdout",
     "output_type": "stream",
     "text": [
      "0\n",
      "1\n",
      "2\n",
      "3\n",
      "4\n",
      "5\n",
      "6\n"
     ]
    }
   ],
   "source": [
    "for i in range(len(t1)):\n",
    "    print(i)"
   ]
  },
  {
   "cell_type": "code",
   "execution_count": 21,
   "id": "a6334c19-117c-4166-b2e9-2e890957382d",
   "metadata": {},
   "outputs": [
    {
     "name": "stdout",
     "output_type": "stream",
     "text": [
      "1 = <class 'int'>\n",
      "2 = <class 'int'>\n",
      "3 = <class 'int'>\n",
      "4.5 = <class 'float'>\n",
      "vinay = <class 'str'>\n",
      "True = <class 'bool'>\n",
      "(26+5j) = <class 'complex'>\n"
     ]
    }
   ],
   "source": [
    "for i in t1:\n",
    "    print(i,\"=\",type(i))"
   ]
  },
  {
   "cell_type": "markdown",
   "id": "43da7912-63a5-44ff-ab0a-766151743b19",
   "metadata": {},
   "source": [
    "# some Inbult function of python can also be used in tuple:"
   ]
  },
  {
   "cell_type": "code",
   "execution_count": 22,
   "id": "075ca9f4-9800-450e-9768-9d4d18a2d354",
   "metadata": {},
   "outputs": [],
   "source": [
    "t2=(2,8,5,3,6,7)\n",
    "t3=(2,6,5,8,3,4)"
   ]
  },
  {
   "cell_type": "code",
   "execution_count": 23,
   "id": "1f11b25b-e9ff-4054-9d89-e90c16bcdea5",
   "metadata": {},
   "outputs": [],
   "source": [
    "t4=(t2,t3)"
   ]
  },
  {
   "cell_type": "code",
   "execution_count": 24,
   "id": "79d95b1c-af9a-46d0-8e07-a3d1d8de9767",
   "metadata": {},
   "outputs": [
    {
     "data": {
      "text/plain": [
       "((2, 8, 5, 3, 6, 7), (2, 6, 5, 8, 3, 4))"
      ]
     },
     "execution_count": 24,
     "metadata": {},
     "output_type": "execute_result"
    }
   ],
   "source": [
    "t4"
   ]
  },
  {
   "cell_type": "markdown",
   "id": "e72ce5a8-55b0-40cf-8af6-92d1407d931e",
   "metadata": {},
   "source": [
    "## del Function :\n",
    "\n",
    "### By using del function we can delete tuple."
   ]
  },
  {
   "cell_type": "code",
   "execution_count": 25,
   "id": "dd57215f-a961-4e99-8a92-52786124fb84",
   "metadata": {},
   "outputs": [
    {
     "data": {
      "text/plain": [
       "((2, 8, 5, 3, 6, 7), (2, 6, 5, 8, 3, 4))"
      ]
     },
     "execution_count": 25,
     "metadata": {},
     "output_type": "execute_result"
    }
   ],
   "source": [
    "t4"
   ]
  },
  {
   "cell_type": "code",
   "execution_count": 26,
   "id": "97a2e37e-091c-475f-8b7b-52236c12182f",
   "metadata": {},
   "outputs": [],
   "source": [
    "del t4"
   ]
  },
  {
   "cell_type": "code",
   "execution_count": 27,
   "id": "92c56788-540e-40d5-a143-19c35a69895d",
   "metadata": {},
   "outputs": [
    {
     "ename": "NameError",
     "evalue": "name 't4' is not defined",
     "output_type": "error",
     "traceback": [
      "\u001b[0;31m---------------------------------------------------------------------------\u001b[0m",
      "\u001b[0;31mNameError\u001b[0m                                 Traceback (most recent call last)",
      "Cell \u001b[0;32mIn[27], line 1\u001b[0m\n\u001b[0;32m----> 1\u001b[0m \u001b[43mt4\u001b[49m\n",
      "\u001b[0;31mNameError\u001b[0m: name 't4' is not defined"
     ]
    }
   ],
   "source": [
    "t4"
   ]
  },
  {
   "cell_type": "markdown",
   "id": "70b6363b-4a97-4d5a-aca4-813a3681f4ec",
   "metadata": {},
   "source": [
    "## Len function:\n",
    "\n",
    "### to identify number of element inside tuple, len function is used"
   ]
  },
  {
   "cell_type": "code",
   "execution_count": 28,
   "id": "b3776fe0-0dc3-44cd-bea6-f6afd26da7b8",
   "metadata": {},
   "outputs": [
    {
     "data": {
      "text/plain": [
       "(1, 2, 3, 4.5, 'vinay', True, (26+5j))"
      ]
     },
     "execution_count": 28,
     "metadata": {},
     "output_type": "execute_result"
    }
   ],
   "source": [
    "t1"
   ]
  },
  {
   "cell_type": "code",
   "execution_count": 29,
   "id": "35bc7d17-b376-421c-b33d-82a5b8fb9dfd",
   "metadata": {},
   "outputs": [
    {
     "data": {
      "text/plain": [
       "7"
      ]
     },
     "execution_count": 29,
     "metadata": {},
     "output_type": "execute_result"
    }
   ],
   "source": [
    "len(t1)"
   ]
  },
  {
   "cell_type": "code",
   "execution_count": null,
   "id": "be9f3242-1d78-4ee9-8497-662dcd2b9120",
   "metadata": {},
   "outputs": [],
   "source": []
  }
 ],
 "metadata": {
  "kernelspec": {
   "display_name": "Python 3 (ipykernel)",
   "language": "python",
   "name": "python3"
  },
  "language_info": {
   "codemirror_mode": {
    "name": "ipython",
    "version": 3
   },
   "file_extension": ".py",
   "mimetype": "text/x-python",
   "name": "python",
   "nbconvert_exporter": "python",
   "pygments_lexer": "ipython3",
   "version": "3.10.8"
  }
 },
 "nbformat": 4,
 "nbformat_minor": 5
}
