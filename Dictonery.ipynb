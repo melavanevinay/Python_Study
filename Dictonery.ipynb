{
 "cells": [
  {
   "cell_type": "markdown",
   "id": "3ef98e03-1b4a-4ca4-bac2-570848c91138",
   "metadata": {},
   "source": [
    "# Dictonery : "
   ]
  },
  {
   "cell_type": "markdown",
   "id": "0bd8e071-35d4-4b83-9c02-5b190a2ad944",
   "metadata": {},
   "source": [
    "## Dictonery are used to store data in key : value pair."
   ]
  },
  {
   "cell_type": "markdown",
   "id": "a152392e-9fbf-41cf-b3cc-da6c848020e8",
   "metadata": {},
   "source": [
    "## It is ordered collection of data type which is changable and do not allow duplicate values"
   ]
  },
  {
   "cell_type": "markdown",
   "id": "efd348b8-0f61-48bc-9aa9-36c45f8e6004",
   "metadata": {},
   "source": [
    "## When we say it as ordered it means the items in dictonery has a defined order which will not change.\n",
    "## While unordered means the items do not have any defined order and we cannot identify the location or index of item and they cannot be indexed."
   ]
  },
  {
   "cell_type": "markdown",
   "id": "ee4b687b-2063-46c2-8076-f17fb5ed177b",
   "metadata": {},
   "source": [
    "## Dictonery are written by using curly braces \"{}\""
   ]
  },
  {
   "cell_type": "code",
   "execution_count": null,
   "id": "c689f088-8e22-4681-985b-96d76aebe01c",
   "metadata": {},
   "outputs": [],
   "source": []
  },
  {
   "cell_type": "code",
   "execution_count": 2,
   "id": "6c13572c-5c90-4c90-823b-9e2c576ef9e3",
   "metadata": {},
   "outputs": [
    {
     "data": {
      "text/plain": [
       "dict"
      ]
     },
     "execution_count": 2,
     "metadata": {},
     "output_type": "execute_result"
    }
   ],
   "source": [
    "d={}\n",
    "type(d)"
   ]
  },
  {
   "cell_type": "code",
   "execution_count": 3,
   "id": "55e47316-3772-47a1-82ce-cbdd3d956785",
   "metadata": {},
   "outputs": [],
   "source": [
    "d1={\"name\":\"Vinay\", \"surname\":\"Melavane\", \"address\" : \"Satara\"}"
   ]
  },
  {
   "cell_type": "code",
   "execution_count": 4,
   "id": "efcb5d14-db5c-4e7d-89cd-2fcf63d6e7a6",
   "metadata": {},
   "outputs": [
    {
     "data": {
      "text/plain": [
       "dict"
      ]
     },
     "execution_count": 4,
     "metadata": {},
     "output_type": "execute_result"
    }
   ],
   "source": [
    "type(d1)"
   ]
  },
  {
   "cell_type": "code",
   "execution_count": 5,
   "id": "0b59df51-99ff-4e53-bdd5-bd602e6d996b",
   "metadata": {},
   "outputs": [
    {
     "data": {
      "text/plain": [
       "{'name': 'Vinay', 'surname': 'Melavane', 'address': 'Satara'}"
      ]
     },
     "execution_count": 5,
     "metadata": {},
     "output_type": "execute_result"
    }
   ],
   "source": [
    "d1"
   ]
  },
  {
   "cell_type": "markdown",
   "id": "9ac819bf-66e4-4f27-a905-91c560a2d238",
   "metadata": {},
   "source": [
    "## When creating a dictonary, key in dictonary should always be unique, or it will update the old key with newly enterad key. Simply We can not use same key repetatively"
   ]
  },
  {
   "cell_type": "code",
   "execution_count": 6,
   "id": "0064756c-d595-4fdc-88ff-f1e1a0d38d46",
   "metadata": {},
   "outputs": [],
   "source": [
    "d2={\"name\":\"Vinay\", \"name\":\"Deepak\"}"
   ]
  },
  {
   "cell_type": "code",
   "execution_count": 7,
   "id": "e9fa7471-90ba-4082-b3ce-6b63f56ee23d",
   "metadata": {},
   "outputs": [
    {
     "data": {
      "text/plain": [
       "{'name': 'Deepak'}"
      ]
     },
     "execution_count": 7,
     "metadata": {},
     "output_type": "execute_result"
    }
   ],
   "source": [
    "d2"
   ]
  },
  {
   "cell_type": "markdown",
   "id": "a8e0f871-ec9a-4bb2-9f15-5f346ed72c5e",
   "metadata": {},
   "source": [
    "## Key can be written by using any data type. It can be string, integer, boolean value, float etc.\n",
    "\n",
    "\n",
    "## Note: We can not use special character such as @, #, $, %, &, * as key name."
   ]
  },
  {
   "cell_type": "code",
   "execution_count": 8,
   "id": "c9098cda-c46a-496b-8c23-eac706ab9636",
   "metadata": {},
   "outputs": [],
   "source": [
    "d3={123:\"abc\" , 45.2 : 123 , True : \"adf\" , \"a\": 78 }"
   ]
  },
  {
   "cell_type": "code",
   "execution_count": 9,
   "id": "b3c37bfb-1cc7-49bc-aad0-9fd5a86e6057",
   "metadata": {},
   "outputs": [
    {
     "data": {
      "text/plain": [
       "{123: 'abc', 45.2: 123, True: 'adf', 'a': 78}"
      ]
     },
     "execution_count": 9,
     "metadata": {},
     "output_type": "execute_result"
    }
   ],
   "source": [
    "d3"
   ]
  },
  {
   "cell_type": "code",
   "execution_count": 10,
   "id": "9dfe5294-5504-4748-b353-91eadd5547f3",
   "metadata": {},
   "outputs": [
    {
     "ename": "SyntaxError",
     "evalue": "invalid syntax (4269082960.py, line 1)",
     "output_type": "error",
     "traceback": [
      "\u001b[0;36m  Cell \u001b[0;32mIn[10], line 1\u001b[0;36m\u001b[0m\n\u001b[0;31m    d4={@:\"abc\"}\u001b[0m\n\u001b[0m        ^\u001b[0m\n\u001b[0;31mSyntaxError\u001b[0m\u001b[0;31m:\u001b[0m invalid syntax\n"
     ]
    }
   ],
   "source": [
    "d4={@:\"abc\"}"
   ]
  },
  {
   "cell_type": "markdown",
   "id": "da62e8f6-8d88-4782-8954-d34f50a87eb9",
   "metadata": {},
   "source": [
    "## Moving towards the value part of Dictonary. Value can be taken as any data type.\n",
    "\n",
    "## It can be:\n",
    "1. list\n",
    "2. tuple\n",
    "3. Set\n",
    "4. dictonery\n",
    "5. integer value\n",
    "6. float value\n",
    "7. string\n",
    "8. boolean value\n"
   ]
  },
  {
   "cell_type": "code",
   "execution_count": 11,
   "id": "6ad68429-fe2e-4f2d-866f-1bdaf61a1a5c",
   "metadata": {},
   "outputs": [],
   "source": [
    "d5={\"name\":[\"Vinay\",\"Nilam\",\"Prasad\",\"Pooja\"] , \"age\":(12,18,16,19) , \"length\" : {12,20} , \"dictonary\":{\"a\":1 , \"b\":2 , \"c\":3}}\n"
   ]
  },
  {
   "cell_type": "code",
   "execution_count": 12,
   "id": "e8933967-b243-4c1b-95bd-952eb8a3aecd",
   "metadata": {},
   "outputs": [
    {
     "data": {
      "text/plain": [
       "{'name': ['Vinay', 'Nilam', 'Prasad', 'Pooja'],\n",
       " 'age': (12, 18, 16, 19),\n",
       " 'length': {12, 20},\n",
       " 'dictonary': {'a': 1, 'b': 2, 'c': 3}}"
      ]
     },
     "execution_count": 12,
     "metadata": {},
     "output_type": "execute_result"
    }
   ],
   "source": [
    "d5"
   ]
  },
  {
   "cell_type": "markdown",
   "id": "f0e70869-17d2-4243-8daa-086e1497fd64",
   "metadata": {},
   "source": [
    "## Different Methods in dictonery:"
   ]
  },
  {
   "cell_type": "markdown",
   "id": "4573fd03-bf05-45b4-ada9-f632e4217f2f",
   "metadata": {},
   "source": [
    "### Different methods in Dictonery are:\n",
    "\n",
    "### 1. clear()\n",
    "### 2. copy()\n",
    "### 3. fromkeys()\n",
    "### 4. get()\n",
    "### 5. items()\n",
    "### 6. keys()\n",
    "### 7. pop()\n",
    "### 8. popitem()\n",
    "### 9. setdefault()\n",
    "### 10. update()\n",
    "### 11. values()"
   ]
  },
  {
   "cell_type": "markdown",
   "id": "57caf25b-e920-490a-a5ff-d236d77a196d",
   "metadata": {},
   "source": [
    "## 1. clear() : \n",
    "### This method is used to remove all the items from dictonery."
   ]
  },
  {
   "cell_type": "code",
   "execution_count": 55,
   "id": "801ceeec-68c7-4936-9713-38df3b26873f",
   "metadata": {},
   "outputs": [],
   "source": [
    "dict1={'a':1 , 'b':2 , 'c':3}"
   ]
  },
  {
   "cell_type": "code",
   "execution_count": 56,
   "id": "0198d686-21e0-4ef3-8d9c-18b3a5e8c142",
   "metadata": {},
   "outputs": [
    {
     "data": {
      "text/plain": [
       "{'a': 1, 'b': 2, 'c': 3}"
      ]
     },
     "execution_count": 56,
     "metadata": {},
     "output_type": "execute_result"
    }
   ],
   "source": [
    "dict1"
   ]
  },
  {
   "cell_type": "code",
   "execution_count": 58,
   "id": "856560b4-b26a-4642-8d79-ada25c5c2cfc",
   "metadata": {},
   "outputs": [],
   "source": [
    "dict1.clear()"
   ]
  },
  {
   "cell_type": "code",
   "execution_count": 59,
   "id": "21e63ac3-acab-42f5-9d15-c1fffecf73a1",
   "metadata": {},
   "outputs": [
    {
     "data": {
      "text/plain": [
       "{}"
      ]
     },
     "execution_count": 59,
     "metadata": {},
     "output_type": "execute_result"
    }
   ],
   "source": [
    "dict1"
   ]
  },
  {
   "cell_type": "code",
   "execution_count": 60,
   "id": "e6614ffd-9138-47bc-ae1a-ddb9f933c117",
   "metadata": {},
   "outputs": [
    {
     "data": {
      "text/plain": [
       "{'name': ['Vinay', 'Nilam', 'Prasad', 'Pooja'],\n",
       " 'age': (12, 18, 16, 19),\n",
       " 'length': {12, 20},\n",
       " 'dictonary': {'a': 1, 'b': 2, 'c': 3},\n",
       " 'qualification': ('b.tech', 'BSC', 'm.tech', 'PHD')}"
      ]
     },
     "execution_count": 60,
     "metadata": {},
     "output_type": "execute_result"
    }
   ],
   "source": [
    "d5"
   ]
  },
  {
   "cell_type": "code",
   "execution_count": null,
   "id": "e29e642c-f75a-475b-935c-1d9a38da76fc",
   "metadata": {},
   "outputs": [],
   "source": [
    "d"
   ]
  },
  {
   "cell_type": "markdown",
   "id": "fe189776-ca43-4e1e-b618-d9051df38f03",
   "metadata": {},
   "source": [
    "\n",
    "\n",
    "## How to add pair of key and value in Dictonary?"
   ]
  },
  {
   "cell_type": "code",
   "execution_count": null,
   "id": "08295492-4e72-4006-95fd-27cf853fc38f",
   "metadata": {},
   "outputs": [],
   "source": []
  },
  {
   "cell_type": "code",
   "execution_count": 14,
   "id": "7f9af431-fd7b-4f12-8939-240f28f2df3c",
   "metadata": {},
   "outputs": [],
   "source": [
    "d5[\"qualification\"]=(\"b.tech\",\"BSC\",\"m.tech\",\"PHD\")"
   ]
  },
  {
   "cell_type": "code",
   "execution_count": 15,
   "id": "7c5f792a-3c71-457d-96c2-524b2a9a66e9",
   "metadata": {},
   "outputs": [
    {
     "data": {
      "text/plain": [
       "{'name': ['Vinay', 'Nilam', 'Prasad', 'Pooja'],\n",
       " 'age': (12, 18, 16, 19),\n",
       " 'length': {12, 20},\n",
       " 'dictonary': {'a': 1, 'b': 2, 'c': 3},\n",
       " 'qualification': ('b.tech', 'BSC', 'm.tech', 'PHD')}"
      ]
     },
     "execution_count": 15,
     "metadata": {},
     "output_type": "execute_result"
    }
   ],
   "source": [
    "d5"
   ]
  },
  {
   "cell_type": "markdown",
   "id": "732d7a97-46f3-43be-bffc-3f68ce40a66c",
   "metadata": {},
   "source": [
    "\n",
    "\n",
    "## We can extract data from dictonary by using key name . In dictonary the key name behaves as index."
   ]
  },
  {
   "cell_type": "code",
   "execution_count": 16,
   "id": "a04587ea-44f5-41b0-bcfd-1567588f380c",
   "metadata": {},
   "outputs": [
    {
     "data": {
      "text/plain": [
       "('b.tech', 'BSC', 'm.tech', 'PHD')"
      ]
     },
     "execution_count": 16,
     "metadata": {},
     "output_type": "execute_result"
    }
   ],
   "source": [
    "d5[\"qualification\"]"
   ]
  },
  {
   "cell_type": "markdown",
   "id": "1e2d8a4e-4c46-448a-b52a-f161e1faaa18",
   "metadata": {},
   "source": [
    "## Length function:\n",
    "\n",
    "### Length function identifies and gives the number of pairs of KEY and Value in dictonary."
   ]
  },
  {
   "cell_type": "code",
   "execution_count": 17,
   "id": "9ae29cf0-0f16-4689-84db-02b91044285a",
   "metadata": {},
   "outputs": [
    {
     "data": {
      "text/plain": [
       "5"
      ]
     },
     "execution_count": 17,
     "metadata": {},
     "output_type": "execute_result"
    }
   ],
   "source": [
    "len(d5)"
   ]
  },
  {
   "cell_type": "markdown",
   "id": "30b9139e-3900-4216-acc6-0af56dbe8950",
   "metadata": {},
   "source": [
    "## keys()\n",
    "## To Exract Keys only from dictonary:\n",
    "\n",
    "## Use inbuilt function \"keys\""
   ]
  },
  {
   "cell_type": "code",
   "execution_count": 18,
   "id": "4440c005-00a8-4e2a-9770-d54eea460130",
   "metadata": {},
   "outputs": [
    {
     "data": {
      "text/plain": [
       "dict_keys(['name', 'age', 'length', 'dictonary', 'qualification'])"
      ]
     },
     "execution_count": 18,
     "metadata": {},
     "output_type": "execute_result"
    }
   ],
   "source": [
    "d5.keys()"
   ]
  },
  {
   "cell_type": "markdown",
   "id": "ce14bec7-24eb-4f16-a3b0-0a5956aab15c",
   "metadata": {},
   "source": [
    "## values()"
   ]
  },
  {
   "cell_type": "markdown",
   "id": "3b36f7ca-6461-453d-a23d-08c24ce78a36",
   "metadata": {},
   "source": [
    "## To Exract Values only from dictonary:\n",
    "\n",
    "## Use inbuilt function \"values\""
   ]
  },
  {
   "cell_type": "code",
   "execution_count": 19,
   "id": "89e74375-6bc9-467e-aaf6-2602147f6986",
   "metadata": {},
   "outputs": [
    {
     "data": {
      "text/plain": [
       "dict_values([['Vinay', 'Nilam', 'Prasad', 'Pooja'], (12, 18, 16, 19), {12, 20}, {'a': 1, 'b': 2, 'c': 3}, ('b.tech', 'BSC', 'm.tech', 'PHD')])"
      ]
     },
     "execution_count": 19,
     "metadata": {},
     "output_type": "execute_result"
    }
   ],
   "source": [
    "d5.values()"
   ]
  },
  {
   "cell_type": "markdown",
   "id": "e7903811-732c-4df9-a212-78fb9a37e9f2",
   "metadata": {},
   "source": [
    "## We can also get this in form of list by using list function"
   ]
  },
  {
   "cell_type": "code",
   "execution_count": 20,
   "id": "aae6a082-17c7-44ec-a01b-66032bdd8c3d",
   "metadata": {},
   "outputs": [
    {
     "data": {
      "text/plain": [
       "['name', 'age', 'length', 'dictonary', 'qualification']"
      ]
     },
     "execution_count": 20,
     "metadata": {},
     "output_type": "execute_result"
    }
   ],
   "source": [
    "list(d5.keys())"
   ]
  },
  {
   "cell_type": "code",
   "execution_count": 21,
   "id": "ec43d13b-450e-4668-a80c-5814e736da4c",
   "metadata": {},
   "outputs": [
    {
     "data": {
      "text/plain": [
       "[['Vinay', 'Nilam', 'Prasad', 'Pooja'],\n",
       " (12, 18, 16, 19),\n",
       " {12, 20},\n",
       " {'a': 1, 'b': 2, 'c': 3},\n",
       " ('b.tech', 'BSC', 'm.tech', 'PHD')]"
      ]
     },
     "execution_count": 21,
     "metadata": {},
     "output_type": "execute_result"
    }
   ],
   "source": [
    "list(d5.values())"
   ]
  },
  {
   "cell_type": "markdown",
   "id": "127ea76d-9bf0-4dad-baf5-989a46ac938c",
   "metadata": {},
   "source": [
    "## Also for tuples :"
   ]
  },
  {
   "cell_type": "code",
   "execution_count": 22,
   "id": "450b9269-5328-419e-8e63-96c16ca47626",
   "metadata": {},
   "outputs": [
    {
     "data": {
      "text/plain": [
       "('name', 'age', 'length', 'dictonary', 'qualification')"
      ]
     },
     "execution_count": 22,
     "metadata": {},
     "output_type": "execute_result"
    }
   ],
   "source": [
    "tuple(d5.keys())"
   ]
  },
  {
   "cell_type": "code",
   "execution_count": 23,
   "id": "f54e9cc2-3e97-4d66-8350-1e90874777e5",
   "metadata": {},
   "outputs": [
    {
     "data": {
      "text/plain": [
       "(['Vinay', 'Nilam', 'Prasad', 'Pooja'],\n",
       " (12, 18, 16, 19),\n",
       " {12, 20},\n",
       " {'a': 1, 'b': 2, 'c': 3},\n",
       " ('b.tech', 'BSC', 'm.tech', 'PHD'))"
      ]
     },
     "execution_count": 23,
     "metadata": {},
     "output_type": "execute_result"
    }
   ],
   "source": [
    "tuple(d5.values())"
   ]
  },
  {
   "cell_type": "markdown",
   "id": "1e39cac7-c3fc-49f1-9e17-ba6ef775b7b7",
   "metadata": {},
   "source": [
    "## items()"
   ]
  },
  {
   "cell_type": "markdown",
   "id": "8ca277e5-5b91-4850-9f43-aa679495efcb",
   "metadata": {},
   "source": [
    "## To fetch all the items in dictonary :\n",
    "\n",
    "## Use inbuilt function \"items\""
   ]
  },
  {
   "cell_type": "code",
   "execution_count": 24,
   "id": "0e4b7826-b504-48f7-9f59-5384ce9b051a",
   "metadata": {},
   "outputs": [
    {
     "data": {
      "text/plain": [
       "dict_items([('name', ['Vinay', 'Nilam', 'Prasad', 'Pooja']), ('age', (12, 18, 16, 19)), ('length', {12, 20}), ('dictonary', {'a': 1, 'b': 2, 'c': 3}), ('qualification', ('b.tech', 'BSC', 'm.tech', 'PHD'))])"
      ]
     },
     "execution_count": 24,
     "metadata": {},
     "output_type": "execute_result"
    }
   ],
   "source": [
    "d5.items()"
   ]
  },
  {
   "cell_type": "code",
   "execution_count": 25,
   "id": "af34248c-913c-4dc6-961b-c5e4a7ecd680",
   "metadata": {},
   "outputs": [
    {
     "data": {
      "text/plain": [
       "[('name', ['Vinay', 'Nilam', 'Prasad', 'Pooja']),\n",
       " ('age', (12, 18, 16, 19)),\n",
       " ('length', {12, 20}),\n",
       " ('dictonary', {'a': 1, 'b': 2, 'c': 3}),\n",
       " ('qualification', ('b.tech', 'BSC', 'm.tech', 'PHD'))]"
      ]
     },
     "execution_count": 25,
     "metadata": {},
     "output_type": "execute_result"
    }
   ],
   "source": [
    "list(d5.items())"
   ]
  },
  {
   "cell_type": "markdown",
   "id": "89589dc3-f1e2-49a6-b9ce-f45ccabe4f44",
   "metadata": {},
   "source": [
    "## From above code you can understand that each pair of key and value is converted into a seperate tuple."
   ]
  },
  {
   "cell_type": "markdown",
   "id": "0c898b41-c9a4-47c2-a57d-c69e33a849b1",
   "metadata": {},
   "source": [
    "## To delete pair of Key and value:\n",
    "\n",
    "## Use inbuilt function \"del\":"
   ]
  },
  {
   "cell_type": "code",
   "execution_count": 26,
   "id": "a959806f-8ebc-4bd2-b7ed-33f053864c70",
   "metadata": {},
   "outputs": [],
   "source": [
    "d5[\"car\"]=(\"maruti\",\"AUDI\")"
   ]
  },
  {
   "cell_type": "code",
   "execution_count": 27,
   "id": "ac8e8650-bc7f-4c05-824a-650e0deaed77",
   "metadata": {},
   "outputs": [
    {
     "data": {
      "text/plain": [
       "{'name': ['Vinay', 'Nilam', 'Prasad', 'Pooja'],\n",
       " 'age': (12, 18, 16, 19),\n",
       " 'length': {12, 20},\n",
       " 'dictonary': {'a': 1, 'b': 2, 'c': 3},\n",
       " 'qualification': ('b.tech', 'BSC', 'm.tech', 'PHD'),\n",
       " 'car': ('maruti', 'AUDI')}"
      ]
     },
     "execution_count": 27,
     "metadata": {},
     "output_type": "execute_result"
    }
   ],
   "source": [
    "d5"
   ]
  },
  {
   "cell_type": "code",
   "execution_count": 28,
   "id": "abc838a7-8ec5-4be4-bda5-d107bf13ee65",
   "metadata": {},
   "outputs": [],
   "source": [
    "del d5[\"car\"]"
   ]
  },
  {
   "cell_type": "code",
   "execution_count": 29,
   "id": "0888e2f5-ae56-4e38-8678-c38a45f2c148",
   "metadata": {},
   "outputs": [
    {
     "data": {
      "text/plain": [
       "{'name': ['Vinay', 'Nilam', 'Prasad', 'Pooja'],\n",
       " 'age': (12, 18, 16, 19),\n",
       " 'length': {12, 20},\n",
       " 'dictonary': {'a': 1, 'b': 2, 'c': 3},\n",
       " 'qualification': ('b.tech', 'BSC', 'm.tech', 'PHD')}"
      ]
     },
     "execution_count": 29,
     "metadata": {},
     "output_type": "execute_result"
    }
   ],
   "source": [
    "d5"
   ]
  },
  {
   "cell_type": "markdown",
   "id": "fde7d36a-cc07-4944-9da7-bc361451b414",
   "metadata": {},
   "source": [
    "## copy()"
   ]
  },
  {
   "cell_type": "markdown",
   "id": "0e67abcc-97a3-41af-9b20-ea2318ff53a5",
   "metadata": {},
   "source": [
    "## To copy the data in dictonary, There are two methods:\n",
    "\n",
    "### 1. d6 = d5.copy()\n",
    "### 2. d5 = d7"
   ]
  },
  {
   "cell_type": "markdown",
   "id": "154c5325-bcbf-408b-b372-5ce252c32cb3",
   "metadata": {},
   "source": [
    "## For First case:\n",
    "\n",
    "### 1. d6 = d5.copy():\n",
    "  \n",
    "###  It will create a deep copy or replicate the whole data of dictonary d5, with new memory location assigned to dictonary d6. The changes made in dictonary d5 will not hamper data in d6\n"
   ]
  },
  {
   "cell_type": "code",
   "execution_count": 30,
   "id": "b92a7cf6-f9bc-40dc-8cf5-50dd651f5581",
   "metadata": {},
   "outputs": [],
   "source": [
    "d6 = d5.copy()"
   ]
  },
  {
   "cell_type": "code",
   "execution_count": 31,
   "id": "41c55569-ead8-48d2-a551-069091fc0b44",
   "metadata": {},
   "outputs": [
    {
     "data": {
      "text/plain": [
       "{'name': ['Vinay', 'Nilam', 'Prasad', 'Pooja'],\n",
       " 'age': (12, 18, 16, 19),\n",
       " 'length': {12, 20},\n",
       " 'dictonary': {'a': 1, 'b': 2, 'c': 3},\n",
       " 'qualification': ('b.tech', 'BSC', 'm.tech', 'PHD')}"
      ]
     },
     "execution_count": 31,
     "metadata": {},
     "output_type": "execute_result"
    }
   ],
   "source": [
    "d6"
   ]
  },
  {
   "cell_type": "code",
   "execution_count": 32,
   "id": "1fba7b27-bb3a-4fa2-a68f-5062f6b889fc",
   "metadata": {},
   "outputs": [],
   "source": [
    "d6[\"animal\"]={'lion','monkey'}"
   ]
  },
  {
   "cell_type": "code",
   "execution_count": 33,
   "id": "976a88a7-80d3-416b-b731-9032e639878b",
   "metadata": {},
   "outputs": [
    {
     "data": {
      "text/plain": [
       "{'name': ['Vinay', 'Nilam', 'Prasad', 'Pooja'],\n",
       " 'age': (12, 18, 16, 19),\n",
       " 'length': {12, 20},\n",
       " 'dictonary': {'a': 1, 'b': 2, 'c': 3},\n",
       " 'qualification': ('b.tech', 'BSC', 'm.tech', 'PHD'),\n",
       " 'animal': {'lion', 'monkey'}}"
      ]
     },
     "execution_count": 33,
     "metadata": {},
     "output_type": "execute_result"
    }
   ],
   "source": [
    "d6"
   ]
  },
  {
   "cell_type": "code",
   "execution_count": 34,
   "id": "b0841ea4-61c4-4330-8432-d7439e6ae328",
   "metadata": {},
   "outputs": [
    {
     "data": {
      "text/plain": [
       "{'name': ['Vinay', 'Nilam', 'Prasad', 'Pooja'],\n",
       " 'age': (12, 18, 16, 19),\n",
       " 'length': {12, 20},\n",
       " 'dictonary': {'a': 1, 'b': 2, 'c': 3},\n",
       " 'qualification': ('b.tech', 'BSC', 'm.tech', 'PHD')}"
      ]
     },
     "execution_count": 34,
     "metadata": {},
     "output_type": "execute_result"
    }
   ],
   "source": [
    "d5"
   ]
  },
  {
   "cell_type": "markdown",
   "id": "cd9e1fa9-2e96-4c23-9929-6d093bf1b0a5",
   "metadata": {},
   "source": [
    "### From above you can understand that the changes made in dictonary d6 will not cause any changes in dictonary d5."
   ]
  },
  {
   "cell_type": "markdown",
   "id": "0f02a994-10d1-469f-822e-194234f131f3",
   "metadata": {},
   "source": [
    "## For second case:\n",
    "\n",
    "### 2. d5 = d7\n",
    "\n",
    "### When we try to copy the dictonary by using '=' operator, It creates shallow copy or gives referance of memory location do dictonary d5 to dictonary d7 and not create seperate memory location for dictonary d7. so the changes made in d7 or d5 can be seen in vice versa dictonary."
   ]
  },
  {
   "cell_type": "code",
   "execution_count": 35,
   "id": "2504d0bb-d820-46d7-a360-e762157482f2",
   "metadata": {},
   "outputs": [],
   "source": [
    "d7 = d5"
   ]
  },
  {
   "cell_type": "code",
   "execution_count": 36,
   "id": "1d60d0ab-2416-4ddd-8b9a-04dc4b140516",
   "metadata": {},
   "outputs": [
    {
     "data": {
      "text/plain": [
       "{'name': ['Vinay', 'Nilam', 'Prasad', 'Pooja'],\n",
       " 'age': (12, 18, 16, 19),\n",
       " 'length': {12, 20},\n",
       " 'dictonary': {'a': 1, 'b': 2, 'c': 3},\n",
       " 'qualification': ('b.tech', 'BSC', 'm.tech', 'PHD')}"
      ]
     },
     "execution_count": 36,
     "metadata": {},
     "output_type": "execute_result"
    }
   ],
   "source": [
    "d7"
   ]
  },
  {
   "cell_type": "code",
   "execution_count": 37,
   "id": "63ee727c-9eff-49e0-bdc8-7090d96de8b7",
   "metadata": {},
   "outputs": [
    {
     "data": {
      "text/plain": [
       "{'name': ['Vinay', 'Nilam', 'Prasad', 'Pooja'],\n",
       " 'age': (12, 18, 16, 19),\n",
       " 'length': {12, 20},\n",
       " 'dictonary': {'a': 1, 'b': 2, 'c': 3},\n",
       " 'qualification': ('b.tech', 'BSC', 'm.tech', 'PHD')}"
      ]
     },
     "execution_count": 37,
     "metadata": {},
     "output_type": "execute_result"
    }
   ],
   "source": [
    "d5"
   ]
  },
  {
   "cell_type": "code",
   "execution_count": 38,
   "id": "e1204d7a-93b2-43a1-980a-df236d4fc30a",
   "metadata": {},
   "outputs": [],
   "source": [
    "d7['bird']=[\"peacock\",\"swan\"]"
   ]
  },
  {
   "cell_type": "code",
   "execution_count": 39,
   "id": "2b861d98-b5c2-409a-a8cc-5e5fd2885624",
   "metadata": {},
   "outputs": [
    {
     "data": {
      "text/plain": [
       "{'name': ['Vinay', 'Nilam', 'Prasad', 'Pooja'],\n",
       " 'age': (12, 18, 16, 19),\n",
       " 'length': {12, 20},\n",
       " 'dictonary': {'a': 1, 'b': 2, 'c': 3},\n",
       " 'qualification': ('b.tech', 'BSC', 'm.tech', 'PHD'),\n",
       " 'bird': ['peacock', 'swan']}"
      ]
     },
     "execution_count": 39,
     "metadata": {},
     "output_type": "execute_result"
    }
   ],
   "source": [
    "d7"
   ]
  },
  {
   "cell_type": "code",
   "execution_count": 40,
   "id": "1bd8f24d-85a6-4532-95b6-d0b7c8d1d646",
   "metadata": {},
   "outputs": [
    {
     "data": {
      "text/plain": [
       "{'name': ['Vinay', 'Nilam', 'Prasad', 'Pooja'],\n",
       " 'age': (12, 18, 16, 19),\n",
       " 'length': {12, 20},\n",
       " 'dictonary': {'a': 1, 'b': 2, 'c': 3},\n",
       " 'qualification': ('b.tech', 'BSC', 'm.tech', 'PHD'),\n",
       " 'bird': ['peacock', 'swan']}"
      ]
     },
     "execution_count": 40,
     "metadata": {},
     "output_type": "execute_result"
    }
   ],
   "source": [
    "d5"
   ]
  },
  {
   "cell_type": "markdown",
   "id": "3bc34b6a-e1ea-4c03-b984-d17f3c18577b",
   "metadata": {},
   "source": [
    "## pop function: \n",
    " \n",
    "### remove specified key and return the corresponding value.\n",
    "\n",
    "### If the key is not found, return the default if given; otherwise,\n",
    "### raise a KeyError."
   ]
  },
  {
   "cell_type": "code",
   "execution_count": 41,
   "id": "04d449a5-5410-49d4-90d6-73476adc9ec3",
   "metadata": {},
   "outputs": [
    {
     "data": {
      "text/plain": [
       "['peacock', 'swan']"
      ]
     },
     "execution_count": 41,
     "metadata": {},
     "output_type": "execute_result"
    }
   ],
   "source": [
    "d5.pop(\"bird\")"
   ]
  },
  {
   "cell_type": "code",
   "execution_count": 42,
   "id": "c9b79e21-f912-4827-83ee-65234154a77f",
   "metadata": {},
   "outputs": [
    {
     "data": {
      "text/plain": [
       "{'name': ['Vinay', 'Nilam', 'Prasad', 'Pooja'],\n",
       " 'age': (12, 18, 16, 19),\n",
       " 'length': {12, 20},\n",
       " 'dictonary': {'a': 1, 'b': 2, 'c': 3},\n",
       " 'qualification': ('b.tech', 'BSC', 'm.tech', 'PHD')}"
      ]
     },
     "execution_count": 42,
     "metadata": {},
     "output_type": "execute_result"
    }
   ],
   "source": [
    "d5"
   ]
  },
  {
   "cell_type": "markdown",
   "id": "e5bc6ac6-701b-41df-844c-d891d9951958",
   "metadata": {},
   "source": [
    "## fromkeys() function:\n",
    "\n",
    "## Create a new dictionary with keys from iterable and values set to value"
   ]
  },
  {
   "cell_type": "code",
   "execution_count": 43,
   "id": "f862f30d-8a3b-4869-9c6c-ae1ac59b4707",
   "metadata": {},
   "outputs": [],
   "source": [
    "d8={}"
   ]
  },
  {
   "cell_type": "code",
   "execution_count": 44,
   "id": "a1a0bdf8-4a13-459b-9d15-33d26ae4e486",
   "metadata": {},
   "outputs": [
    {
     "data": {
      "text/plain": [
       "{1: ('a', 'b', 'c'), 2: ('a', 'b', 'c'), 3: ('a', 'b', 'c')}"
      ]
     },
     "execution_count": 44,
     "metadata": {},
     "output_type": "execute_result"
    }
   ],
   "source": [
    "d8.fromkeys((1,2,3),('a','b','c'))"
   ]
  },
  {
   "cell_type": "code",
   "execution_count": 45,
   "id": "bec2c427-ae4c-44fa-a08b-0a641a70545a",
   "metadata": {},
   "outputs": [],
   "source": [
    "d9={'key_1':['val_1','val_2'], 'key_2':['val_3','val_4']}\n",
    "d10={'key_3':['val_5','val_6'], 'key_4':['val_7','val_8']}"
   ]
  },
  {
   "cell_type": "markdown",
   "id": "289e49a9-03bf-4dc1-bb25-035993856176",
   "metadata": {},
   "source": [
    "## update():\n",
    "\n",
    "## Update function will update the dictonary with given dictonary if given dictonary has different values. "
   ]
  },
  {
   "cell_type": "code",
   "execution_count": 46,
   "id": "9fa4d6d5-1452-4d7c-8195-0ee5bcc0b0e0",
   "metadata": {},
   "outputs": [],
   "source": [
    "d9.update(d10)"
   ]
  },
  {
   "cell_type": "code",
   "execution_count": 47,
   "id": "ed361801-a398-4ed7-81ca-7d28af92c3f2",
   "metadata": {},
   "outputs": [
    {
     "data": {
      "text/plain": [
       "{'key_1': ['val_1', 'val_2'],\n",
       " 'key_2': ['val_3', 'val_4'],\n",
       " 'key_3': ['val_5', 'val_6'],\n",
       " 'key_4': ['val_7', 'val_8']}"
      ]
     },
     "execution_count": 47,
     "metadata": {},
     "output_type": "execute_result"
    }
   ],
   "source": [
    "d9"
   ]
  },
  {
   "cell_type": "code",
   "execution_count": 48,
   "id": "b32cbb5a-2053-49c8-ba00-fd987d42ab2e",
   "metadata": {},
   "outputs": [],
   "source": [
    "d10.update(d9)"
   ]
  },
  {
   "cell_type": "code",
   "execution_count": 49,
   "id": "4da13122-9e95-40bb-ba12-f54041ec557d",
   "metadata": {},
   "outputs": [
    {
     "data": {
      "text/plain": [
       "{'key_3': ['val_5', 'val_6'],\n",
       " 'key_4': ['val_7', 'val_8'],\n",
       " 'key_1': ['val_1', 'val_2'],\n",
       " 'key_2': ['val_3', 'val_4']}"
      ]
     },
     "execution_count": 49,
     "metadata": {},
     "output_type": "execute_result"
    }
   ],
   "source": [
    "d10"
   ]
  },
  {
   "cell_type": "markdown",
   "id": "d51a6909-7d72-4d11-8de5-5b19584e68ae",
   "metadata": {},
   "source": [
    "## Dictonary comprehension:\n",
    "    \n",
    "##   Like List Comprehension, Python allows dictionary comprehensions. We can create dictionaries using simple expressions. A dictionary comprehension takes the form {key: value for (key, value) in iterable} "
   ]
  },
  {
   "cell_type": "code",
   "execution_count": 50,
   "id": "0c672b7a-81b3-4f9d-8c9a-0f17cd519479",
   "metadata": {},
   "outputs": [],
   "source": [
    "d11={i:i**2 for i in range (1,31)}"
   ]
  },
  {
   "cell_type": "code",
   "execution_count": 51,
   "id": "10655aab-9905-4322-9aee-ad3bed49ac0e",
   "metadata": {},
   "outputs": [
    {
     "data": {
      "text/plain": [
       "{1: 1,\n",
       " 2: 4,\n",
       " 3: 9,\n",
       " 4: 16,\n",
       " 5: 25,\n",
       " 6: 36,\n",
       " 7: 49,\n",
       " 8: 64,\n",
       " 9: 81,\n",
       " 10: 100,\n",
       " 11: 121,\n",
       " 12: 144,\n",
       " 13: 169,\n",
       " 14: 196,\n",
       " 15: 225,\n",
       " 16: 256,\n",
       " 17: 289,\n",
       " 18: 324,\n",
       " 19: 361,\n",
       " 20: 400,\n",
       " 21: 441,\n",
       " 22: 484,\n",
       " 23: 529,\n",
       " 24: 576,\n",
       " 25: 625,\n",
       " 26: 676,\n",
       " 27: 729,\n",
       " 28: 784,\n",
       " 29: 841,\n",
       " 30: 900}"
      ]
     },
     "execution_count": 51,
     "metadata": {},
     "output_type": "execute_result"
    }
   ],
   "source": [
    "d11"
   ]
  },
  {
   "cell_type": "code",
   "execution_count": 52,
   "id": "725ef9ef-c75c-4abf-9b16-5fc28efad2af",
   "metadata": {},
   "outputs": [
    {
     "name": "stdout",
     "output_type": "stream",
     "text": [
      "2 = 4\n",
      "4 = 16\n",
      "6 = 36\n",
      "8 = 64\n",
      "10 = 100\n",
      "12 = 144\n",
      "14 = 196\n",
      "16 = 256\n",
      "18 = 324\n",
      "20 = 400\n",
      "22 = 484\n",
      "24 = 576\n",
      "26 = 676\n",
      "28 = 784\n",
      "30 = 900\n"
     ]
    }
   ],
   "source": [
    "for i in d11.keys():\n",
    "    if i%2==0:\n",
    "        print(i,\"=\",i**2)\n",
    "    "
   ]
  },
  {
   "cell_type": "code",
   "execution_count": 53,
   "id": "ac0e3cf8-50e6-4152-b3e8-1337758eb14f",
   "metadata": {},
   "outputs": [
    {
     "name": "stdout",
     "output_type": "stream",
     "text": [
      "4\n",
      "16\n",
      "36\n",
      "64\n",
      "100\n",
      "144\n",
      "196\n",
      "256\n",
      "324\n",
      "400\n",
      "484\n",
      "576\n",
      "676\n",
      "784\n",
      "900\n"
     ]
    }
   ],
   "source": [
    "for i in d11.keys():\n",
    "    if i %2 ==0:\n",
    "        print(d11[i])"
   ]
  },
  {
   "cell_type": "code",
   "execution_count": 54,
   "id": "44aa370e-b359-406d-beac-8e934c00e849",
   "metadata": {},
   "outputs": [
    {
     "name": "stdout",
     "output_type": "stream",
     "text": [
      "True\n"
     ]
    }
   ],
   "source": [
    "dict1 = {\"key1\":1, \"key2\":2}\n",
    "\n",
    "dict2 = {\"key2\":2, \"key1\":1}\n",
    "\n",
    "print(dict1 == dict2)"
   ]
  },
  {
   "cell_type": "code",
   "execution_count": null,
   "id": "91210108-b873-4e6e-b501-2ef39fff1864",
   "metadata": {},
   "outputs": [],
   "source": []
  }
 ],
 "metadata": {
  "kernelspec": {
   "display_name": "Python 3 (ipykernel)",
   "language": "python",
   "name": "python3"
  },
  "language_info": {
   "codemirror_mode": {
    "name": "ipython",
    "version": 3
   },
   "file_extension": ".py",
   "mimetype": "text/x-python",
   "name": "python",
   "nbconvert_exporter": "python",
   "pygments_lexer": "ipython3",
   "version": "3.10.8"
  }
 },
 "nbformat": 4,
 "nbformat_minor": 5
}
